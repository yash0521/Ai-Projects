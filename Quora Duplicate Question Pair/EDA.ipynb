{
 "cells": [
  {
   "cell_type": "code",
   "execution_count": 1,
   "metadata": {},
   "outputs": [],
   "source": [
    "import numpy as np\n",
    "import pandas as pd\n",
    "import matplotlib.pyplot as plt\n",
    "import seaborn as sns"
   ]
  },
  {
   "cell_type": "code",
   "execution_count": 6,
   "metadata": {},
   "outputs": [
    {
     "data": {
      "text/html": [
       "<div>\n",
       "<style scoped>\n",
       "    .dataframe tbody tr th:only-of-type {\n",
       "        vertical-align: middle;\n",
       "    }\n",
       "\n",
       "    .dataframe tbody tr th {\n",
       "        vertical-align: top;\n",
       "    }\n",
       "\n",
       "    .dataframe thead th {\n",
       "        text-align: right;\n",
       "    }\n",
       "</style>\n",
       "<table border=\"1\" class=\"dataframe\">\n",
       "  <thead>\n",
       "    <tr style=\"text-align: right;\">\n",
       "      <th></th>\n",
       "      <th>id</th>\n",
       "      <th>qid1</th>\n",
       "      <th>qid2</th>\n",
       "      <th>question1</th>\n",
       "      <th>question2</th>\n",
       "      <th>is_duplicate</th>\n",
       "    </tr>\n",
       "  </thead>\n",
       "  <tbody>\n",
       "    <tr>\n",
       "      <th>372155</th>\n",
       "      <td>372155</td>\n",
       "      <td>502853</td>\n",
       "      <td>502854</td>\n",
       "      <td>How can you have a good day?</td>\n",
       "      <td>What does it take to have a good day?</td>\n",
       "      <td>1</td>\n",
       "    </tr>\n",
       "    <tr>\n",
       "      <th>72228</th>\n",
       "      <td>72228</td>\n",
       "      <td>124143</td>\n",
       "      <td>124144</td>\n",
       "      <td>If you personally know Peter Lindgren, a forme...</td>\n",
       "      <td>What is former guitarist for Opeth, Peter Lind...</td>\n",
       "      <td>0</td>\n",
       "    </tr>\n",
       "    <tr>\n",
       "      <th>118528</th>\n",
       "      <td>118528</td>\n",
       "      <td>36058</td>\n",
       "      <td>179677</td>\n",
       "      <td>Has anyone ever seen a ghost in real life?</td>\n",
       "      <td>Have you ever seen ghost in your real life?</td>\n",
       "      <td>1</td>\n",
       "    </tr>\n",
       "    <tr>\n",
       "      <th>249830</th>\n",
       "      <td>249830</td>\n",
       "      <td>363559</td>\n",
       "      <td>363560</td>\n",
       "      <td>If we keep an object floating in air, will we ...</td>\n",
       "      <td>What if I fly a helicopter and keep it steady ...</td>\n",
       "      <td>0</td>\n",
       "    </tr>\n",
       "    <tr>\n",
       "      <th>195389</th>\n",
       "      <td>195389</td>\n",
       "      <td>295817</td>\n",
       "      <td>199950</td>\n",
       "      <td>What are the smart goals?</td>\n",
       "      <td>What are smart goals?</td>\n",
       "      <td>1</td>\n",
       "    </tr>\n",
       "    <tr>\n",
       "      <th>202877</th>\n",
       "      <td>202877</td>\n",
       "      <td>305307</td>\n",
       "      <td>305308</td>\n",
       "      <td>What are the points of the Dalton atomic theor...</td>\n",
       "      <td>What year did Democritus discover the Atomic T...</td>\n",
       "      <td>0</td>\n",
       "    </tr>\n",
       "    <tr>\n",
       "      <th>139688</th>\n",
       "      <td>139688</td>\n",
       "      <td>222152</td>\n",
       "      <td>222153</td>\n",
       "      <td>How many people have gone to hell?</td>\n",
       "      <td>God: How can a loving God send people to hell?</td>\n",
       "      <td>0</td>\n",
       "    </tr>\n",
       "    <tr>\n",
       "      <th>6438</th>\n",
       "      <td>6438</td>\n",
       "      <td>12611</td>\n",
       "      <td>12612</td>\n",
       "      <td>How did Dumbledore gain the most powerful wand?</td>\n",
       "      <td>Who gave dumbledore the wand?</td>\n",
       "      <td>1</td>\n",
       "    </tr>\n",
       "    <tr>\n",
       "      <th>203182</th>\n",
       "      <td>203182</td>\n",
       "      <td>169806</td>\n",
       "      <td>14129</td>\n",
       "      <td>Did RBI confirm that GPS chips have been used ...</td>\n",
       "      <td>How the nano GPS chips (NGC) in Indian 2000 Ru...</td>\n",
       "      <td>1</td>\n",
       "    </tr>\n",
       "    <tr>\n",
       "      <th>402175</th>\n",
       "      <td>402175</td>\n",
       "      <td>464451</td>\n",
       "      <td>535627</td>\n",
       "      <td>What would happen if we saw the world only thr...</td>\n",
       "      <td>What would happen if for one day only the whol...</td>\n",
       "      <td>0</td>\n",
       "    </tr>\n",
       "  </tbody>\n",
       "</table>\n",
       "</div>"
      ],
      "text/plain": [
       "            id    qid1    qid2   \n",
       "372155  372155  502853  502854  \\\n",
       "72228    72228  124143  124144   \n",
       "118528  118528   36058  179677   \n",
       "249830  249830  363559  363560   \n",
       "195389  195389  295817  199950   \n",
       "202877  202877  305307  305308   \n",
       "139688  139688  222152  222153   \n",
       "6438      6438   12611   12612   \n",
       "203182  203182  169806   14129   \n",
       "402175  402175  464451  535627   \n",
       "\n",
       "                                                question1   \n",
       "372155                       How can you have a good day?  \\\n",
       "72228   If you personally know Peter Lindgren, a forme...   \n",
       "118528         Has anyone ever seen a ghost in real life?   \n",
       "249830  If we keep an object floating in air, will we ...   \n",
       "195389                          What are the smart goals?   \n",
       "202877  What are the points of the Dalton atomic theor...   \n",
       "139688                 How many people have gone to hell?   \n",
       "6438      How did Dumbledore gain the most powerful wand?   \n",
       "203182  Did RBI confirm that GPS chips have been used ...   \n",
       "402175  What would happen if we saw the world only thr...   \n",
       "\n",
       "                                                question2  is_duplicate  \n",
       "372155              What does it take to have a good day?             1  \n",
       "72228   What is former guitarist for Opeth, Peter Lind...             0  \n",
       "118528        Have you ever seen ghost in your real life?             1  \n",
       "249830  What if I fly a helicopter and keep it steady ...             0  \n",
       "195389                              What are smart goals?             1  \n",
       "202877  What year did Democritus discover the Atomic T...             0  \n",
       "139688     God: How can a loving God send people to hell?             0  \n",
       "6438                        Who gave dumbledore the wand?             1  \n",
       "203182  How the nano GPS chips (NGC) in Indian 2000 Ru...             1  \n",
       "402175  What would happen if for one day only the whol...             0  "
      ]
     },
     "execution_count": 6,
     "metadata": {},
     "output_type": "execute_result"
    }
   ],
   "source": [
    "df = pd.read_csv(\"./Dataset/train.csv\")\n",
    "df.sample(10)"
   ]
  },
  {
   "cell_type": "code",
   "execution_count": 3,
   "metadata": {},
   "outputs": [
    {
     "data": {
      "text/plain": [
       "(404290, 6)"
      ]
     },
     "execution_count": 3,
     "metadata": {},
     "output_type": "execute_result"
    }
   ],
   "source": [
    "df.shape"
   ]
  },
  {
   "cell_type": "markdown",
   "metadata": {},
   "source": [
    "EDA\n"
   ]
  },
  {
   "cell_type": "code",
   "execution_count": 4,
   "metadata": {},
   "outputs": [
    {
     "name": "stdout",
     "output_type": "stream",
     "text": [
      "<class 'pandas.core.frame.DataFrame'>\n",
      "RangeIndex: 404290 entries, 0 to 404289\n",
      "Data columns (total 6 columns):\n",
      " #   Column        Non-Null Count   Dtype \n",
      "---  ------        --------------   ----- \n",
      " 0   id            404290 non-null  int64 \n",
      " 1   qid1          404290 non-null  int64 \n",
      " 2   qid2          404290 non-null  int64 \n",
      " 3   question1     404289 non-null  object\n",
      " 4   question2     404288 non-null  object\n",
      " 5   is_duplicate  404290 non-null  int64 \n",
      "dtypes: int64(4), object(2)\n",
      "memory usage: 18.5+ MB\n"
     ]
    }
   ],
   "source": [
    "df.info()"
   ]
  },
  {
   "cell_type": "code",
   "execution_count": 5,
   "metadata": {},
   "outputs": [
    {
     "data": {
      "text/plain": [
       "id              0\n",
       "qid1            0\n",
       "qid2            0\n",
       "question1       1\n",
       "question2       2\n",
       "is_duplicate    0\n",
       "dtype: int64"
      ]
     },
     "execution_count": 5,
     "metadata": {},
     "output_type": "execute_result"
    }
   ],
   "source": [
    "df.isna().sum()"
   ]
  },
  {
   "cell_type": "code",
   "execution_count": 7,
   "metadata": {},
   "outputs": [
    {
     "data": {
      "text/plain": [
       "0"
      ]
     },
     "execution_count": 7,
     "metadata": {},
     "output_type": "execute_result"
    }
   ],
   "source": [
    "df.duplicated().sum()"
   ]
  },
  {
   "cell_type": "code",
   "execution_count": 9,
   "metadata": {},
   "outputs": [
    {
     "name": "stdout",
     "output_type": "stream",
     "text": [
      "is_duplicate\n",
      "0    255027\n",
      "1    149263\n",
      "Name: count, dtype: int64\n",
      "is_duplicate\n",
      "0    63.080215\n",
      "1    36.919785\n",
      "Name: count, dtype: float64\n"
     ]
    },
    {
     "data": {
      "text/plain": [
       "<Axes: xlabel='is_duplicate'>"
      ]
     },
     "execution_count": 9,
     "metadata": {},
     "output_type": "execute_result"
    },
    {
     "data": {
      "image/png": "[encoded data removed]",
      "text/plain": [
       "<Figure size 640x480 with 1 Axes>"
      ]
     },
     "metadata": {},
     "output_type": "display_data"
    }
   ],
   "source": [
    "# Distribution of duplicate and non-nonduplicate question\n",
    "\n",
    "print(df[\"is_duplicate\"].value_counts())\n",
    "print((df[\"is_duplicate\"].value_counts() / df[\"is_duplicate\"].count()) * 100)\n",
    "df[\"is_duplicate\"].value_counts().plot(kind=\"bar\")"
   ]
  },
  {
   "cell_type": "code",
   "execution_count": 10,
   "metadata": {},
   "outputs": [
    {
     "name": "stdout",
     "output_type": "stream",
     "text": [
      "Number of unique questions 537933\n",
      "Number of repeated questions 111780\n"
     ]
    }
   ],
   "source": [
    "# Repeated Questions\n",
    "\n",
    "qid = pd.Series(df[\"qid1\"].tolist() + df[\"qid2\"].tolist())\n",
    "print(\"Number of unique questions\", np.unique(\n",
    "    qid).shape[0])  # This Questions are unique\n",
    "\n",
    "x = qid.value_counts() > 1\n",
    "# This questions are multiple times\n",
    "print(\"Number of repeated questions\", x[x].shape[0])"
   ]
  },
  {
   "cell_type": "code",
   "execution_count": 11,
   "metadata": {},
   "outputs": [
    {
     "data": {
      "image/png": "[encoded data removed]",
      "text/plain": [
       "<Figure size 640x480 with 1 Axes>"
      ]
     },
     "metadata": {},
     "output_type": "display_data"
    }
   ],
   "source": [
    "# Repeated questions histogram\n",
    "\n",
    "plt.hist(qid.value_counts().values, bins=160)\n",
    "plt.yscale(\"log\")\n",
    "plt.xlabel(\"Number of times question repeated\")\n",
    "plt.show()"
   ]
  }
 ],
 "metadata": {
  "kernelspec": {
   "display_name": "Python 3",
   "language": "python",
   "name": "python3"
  },
  "language_info": {
   "codemirror_mode": {
    "name": "ipython",
    "version": 3
   },
   "file_extension": ".py",
   "mimetype": "text/x-python",
   "name": "python",
   "nbconvert_exporter": "python",
   "pygments_lexer": "ipython3",
   "version": "3.10.11"
  },
  "orig_nbformat": 4
 },
 "nbformat": 4,
 "nbformat_minor": 2
}
