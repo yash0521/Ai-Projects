{
 "cells": [
  {
   "cell_type": "markdown",
   "metadata": {},
   "source": [
    "# Process CSV Raw data\n"
   ]
  },
  {
   "cell_type": "code",
   "execution_count": 1,
   "metadata": {},
   "outputs": [],
   "source": [
    "import pandas as pd\n",
    "import numpy as np\n",
    "import warnings\n",
    "from glob import glob\n",
    "import os\n",
    "from tqdm import tqdm\n",
    "warnings.filterwarnings('ignore')"
   ]
  },
  {
   "cell_type": "markdown",
   "metadata": {},
   "source": [
    "For Training\n"
   ]
  },
  {
   "cell_type": "code",
   "execution_count": 4,
   "metadata": {},
   "outputs": [],
   "source": [
    "def process_csv_raw_data(raw_data_path, processed_data_path):\n",
    "    \"\"\"Load the raw data from the raw_data_path and save it to the processed_data_path\"\"\"\n",
    "\n",
    "    # Get all the csv files in the raw_data_path\n",
    "    csv_files = glob(os.path.join(raw_data_path, \"*.csv\"))\n",
    "\n",
    "    # Iterate over the csv files\n",
    "    for csv_file in tqdm(csv_files):\n",
    "\n",
    "        # Load the csv file\n",
    "        df = pd.read_csv(csv_file)\n",
    "\n",
    "        # Get the file name\n",
    "        file_name = \"walking\"\n",
    "        # file_name = os.path.basename(csv_file)\n",
    "        # print(file_name)\n",
    "\n",
    "        action = file_name.split(\".\")[0]\n",
    "        # print(action)\n",
    "\n",
    "        # read the csv file\n",
    "        temp_df = pd.read_csv(csv_file, on_bad_lines='skip')\n",
    "\n",
    "        # Rename the columns\n",
    "        temp_df = temp_df.rename(columns={\"Time\": \"time\", \"Device name设备名称\": \"ax\", \"Acceleration X(g)\": \"ay\",\n",
    "                                          \"Acceleration Y(g)\": \"az\", \"Acceleration Z(g)\": \"wx\", \"Angular velocity X(°/s)\": \"wy\", \"Angular velocity Y(°/s)\": \"wz\", \"Angular velocity Z(°/s)\": \"angleX\", \"Angle X(°)\": \"angleY\", \"Angle Y(°)\": \"angleZ\", \"Angle Z(°)\": \"temperature\", \"Temperature(℃)\": \"Unnamed\"})\n",
    "\n",
    "        temp_df = temp_df[['ax', 'ay', 'az', 'wx',\n",
    "\n",
    "                           'wy', 'wz', 'angleX', 'angleY', 'angleZ']]\n",
    "\n",
    "        temp_df['action'] = action\n",
    "\n",
    "        temp_df.reset_index(drop=True, inplace=True)\n",
    "        # print(temp_df.columns)\n",
    "\n",
    "        # Save the csv file to the processed_data_path\n",
    "        temp_df.to_csv(os.path.join(\n",
    "            processed_data_path, file_name), index=False)"
   ]
  },
  {
   "cell_type": "code",
   "execution_count": null,
   "metadata": {},
   "outputs": [],
   "source": [
    "raw_data_path = \"raw_data/csv_data/\"\n",
    "processed_data_path = \"processed_data\"\n",
    "\n",
    "process_csv_raw_data(raw_data_path, processed_data_path)"
   ]
  },
  {
   "cell_type": "markdown",
   "metadata": {},
   "source": [
    "For Predictions\n"
   ]
  },
  {
   "cell_type": "code",
   "execution_count": 65,
   "metadata": {},
   "outputs": [],
   "source": [
    "def process_raw_data(raw_data):\n",
    "    \"\"\"Process raw data and return df\"\"\"\n",
    "\n",
    "    # Assuming raw_data is a list of DataFrames or a single DataFrame\n",
    "    if isinstance(raw_data, list):\n",
    "        # Concatenate the list of DataFrames into a single DataFrame\n",
    "        processed_df = pd.concat(raw_data, ignore_index=True)\n",
    "    elif isinstance(raw_data, pd.DataFrame):\n",
    "        # Use the single DataFrame as is\n",
    "        processed_df = raw_data\n",
    "    else:\n",
    "        raise ValueError(\n",
    "            \"Input raw_data should be a list of DataFrames or a single DataFrame.\")\n",
    "\n",
    "    # Rename the columns\n",
    "    processed_df = processed_df.rename(columns={\"Time\": \"time\", \"Device name设备名称\": \"ax\", \"Acceleration X(g)\": \"ay\",\n",
    "                                                \"Acceleration Y(g)\": \"az\", \"Acceleration Z(g)\": \"wx\", \"Angular velocity X(°/s)\": \"wy\", \"Angular velocity Y(°/s)\": \"wz\", \"Angular velocity Z(°/s)\": \"angleX\", \"Angle X(°)\": \"AngleY\", \"Angle Y(°)\": \"AngleZ\", \"Angle Z(°)\": \"temperature\", \"Temperature(℃)\": \"Unnamed\"})\n",
    "\n",
    "    processed_df = processed_df[['ax', 'ay', 'az', 'wx',\n",
    "                                 'wy', 'wz', 'angleX', 'angleY', 'angleZ']]\n",
    "\n",
    "    processed_df.reset_index(drop=True, inplace=True)\n",
    "\n",
    "    return processed_df"
   ]
  },
  {
   "cell_type": "code",
   "execution_count": null,
   "metadata": {},
   "outputs": [],
   "source": [
    "import pickle\n",
    "\n",
    "# dump the process_raw_data fun for later use\n",
    "dump_file_path = \"utils/\"\n",
    "pickle.dump(process_raw_data, open(\n",
    "    dump_file_path + \"process_raw_data.pkl\", \"wb\"))"
   ]
  },
  {
   "cell_type": "code",
   "execution_count": 12,
   "metadata": {},
   "outputs": [],
   "source": [
    "# Merge 2 csv file\n",
    "\n",
    "import pandas as pd\n",
    "import os\n",
    "\n",
    "file1_path = \"processed_data\\Data_09.10\\walking.csv\"\n",
    "file2_path = \"processed_data\\Data_31.10\\walking.csv\"\n",
    "\n",
    "df1 = pd.read_csv(file1_path)\n",
    "df2 = pd.read_csv(file2_path)\n",
    "\n",
    "merged_df = pd.concat([df1, df2])\n",
    "\n",
    "output_directory = \"processed_data/train\"\n",
    "os.makedirs(output_directory, exist_ok=True)\n",
    "\n",
    "output_path = os.path.join(output_directory, \"walking.csv\")\n",
    "merged_df.to_csv(output_path, index=False)"
   ]
  },
  {
   "cell_type": "code",
   "execution_count": null,
   "metadata": {},
   "outputs": [],
   "source": []
  }
 ],
 "metadata": {
  "kernelspec": {
   "display_name": "Python 3",
   "language": "python",
   "name": "python3"
  },
  "language_info": {
   "codemirror_mode": {
    "name": "ipython",
    "version": 3
   },
   "file_extension": ".py",
   "mimetype": "text/x-python",
   "name": "python",
   "nbconvert_exporter": "python",
   "pygments_lexer": "ipython3",
   "version": "3.11.5"
  }
 },
 "nbformat": 4,
 "nbformat_minor": 2
}
