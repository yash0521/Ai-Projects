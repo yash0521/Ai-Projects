{
 "cells": [
  {
   "cell_type": "code",
   "execution_count": 1,
   "metadata": {},
   "outputs": [],
   "source": [
    "import pandas as pd\n",
    "import numpy as np\n",
    "import warnings\n",
    "from glob import glob\n",
    "import os\n",
    "import csv\n",
    "from tqdm import tqdm\n",
    "warnings.filterwarnings('ignore')"
   ]
  },
  {
   "cell_type": "code",
   "execution_count": 2,
   "metadata": {},
   "outputs": [],
   "source": [
    "def txt2csv(input_folder_path):\n",
    "\n",
    "    # Get all the csv files in the raw_data_path\n",
    "    txt_files = glob(os.path.join(input_folder_path, \"*.txt\"))\n",
    "\n",
    "    # Iterate over the csv files\n",
    "    for txt_file in tqdm(txt_files):\n",
    "\n",
    "        file_name = os.path.basename(txt_file)\n",
    "        action = file_name.split(\".\")[0]\n",
    "\n",
    "        with open(action, 'w', newline='') as csv_file:\n",
    "            writer = csv.writer(csv_file)\n",
    "\n",
    "            with open(txt_file, 'r') as txt_file:\n",
    "                lines = txt_file.readlines()[1:]  # Skip the first row\n",
    "\n",
    "                for line in lines:\n",
    "                    columns = line.strip().split()\n",
    "                    writer.writerow(columns)"
   ]
  },
  {
   "cell_type": "code",
   "execution_count": 3,
   "metadata": {},
   "outputs": [
    {
     "name": "stderr",
     "output_type": "stream",
     "text": [
      "  0%|          | 0/6 [00:00<?, ?it/s]"
     ]
    },
    {
     "name": "stderr",
     "output_type": "stream",
     "text": [
      "100%|██████████| 6/6 [00:00<00:00,  8.87it/s]\n"
     ]
    }
   ],
   "source": [
    "input_folder_path = 'raw_data/txt_data/'\n",
    "\n",
    "txt2csv(input_folder_path)"
   ]
  },
  {
   "cell_type": "markdown",
   "metadata": {},
   "source": [
    "Process that converted CSV file\n"
   ]
  },
  {
   "cell_type": "code",
   "execution_count": 4,
   "metadata": {},
   "outputs": [],
   "source": [
    "def process_csv_raw_data(raw_data_path, processed_data_path):\n",
    "    \"\"\"Load the raw data from the raw_data_path and save it to the processed_data_path\"\"\"\n",
    "\n",
    "    # Get all the csv files in the raw_data_path\n",
    "    csv_files = glob(os.path.join(raw_data_path, \"*.csv\"))\n",
    "\n",
    "    # Iterate over the csv files\n",
    "    for csv_file in tqdm(csv_files):\n",
    "\n",
    "        # Load the csv file\n",
    "        df = pd.read_csv(csv_file)\n",
    "\n",
    "        # Get the file name\n",
    "        file_name = os.path.basename(csv_file)\n",
    "        # print(file_name)\n",
    "\n",
    "        action = file_name.split(\".\")[0]\n",
    "        # print(action)\n",
    "\n",
    "        # read the csv file\n",
    "        temp_df = pd.read_csv(csv_file, on_bad_lines='skip')\n",
    "\n",
    "        # Rename the columns\n",
    "        temp_df = temp_df.rename(columns={'Record': \"record\", 'Time:': 'time', 'ax：': 'ax', 'ay：': 'ay', 'az：': 'az', 'wx：': 'wx', 'wy：': 'wy', 'wz：': 'wz', 'AngleX：': 'angleX',\n",
    "                                          'AngleY：': 'angleY', 'AngleZ：': 'angleZ'})\n",
    "\n",
    "        temp_df = temp_df[['ax', 'ay', 'az', 'wx',\n",
    "                           'wy', 'wz', 'angleX', 'angleY', 'angleZ']]\n",
    "\n",
    "        temp_df['action'] = action\n",
    "\n",
    "        temp_df.reset_index(drop=True, inplace=True)\n",
    "        # print(temp_df.columns)\n",
    "\n",
    "        # Save the csv file to the processed_data_path\n",
    "        temp_df.to_csv(os.path.join(\n",
    "            processed_data_path, file_name), index=False)"
   ]
  },
  {
   "cell_type": "code",
   "execution_count": 5,
   "metadata": {},
   "outputs": [
    {
     "name": "stderr",
     "output_type": "stream",
     "text": [
      "  0%|          | 0/6 [00:00<?, ?it/s]"
     ]
    },
    {
     "name": "stderr",
     "output_type": "stream",
     "text": [
      "100%|██████████| 6/6 [00:01<00:00,  3.41it/s]\n"
     ]
    }
   ],
   "source": [
    "raw_data_path = \"raw_data/csv_data/\"\n",
    "processed_data_path = \"processed_data\"\n",
    "\n",
    "process_csv_raw_data(raw_data_path, processed_data_path)"
   ]
  },
  {
   "cell_type": "code",
   "execution_count": null,
   "metadata": {},
   "outputs": [],
   "source": []
  }
 ],
 "metadata": {
  "kernelspec": {
   "display_name": "Python 3",
   "language": "python",
   "name": "python3"
  },
  "language_info": {
   "codemirror_mode": {
    "name": "ipython",
    "version": 3
   },
   "file_extension": ".py",
   "mimetype": "text/x-python",
   "name": "python",
   "nbconvert_exporter": "python",
   "pygments_lexer": "ipython3",
   "version": "3.11.5"
  }
 },
 "nbformat": 4,
 "nbformat_minor": 2
}
