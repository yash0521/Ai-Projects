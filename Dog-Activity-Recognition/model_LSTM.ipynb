{
 "cells": [
  {
   "cell_type": "code",
   "execution_count": 1,
   "metadata": {},
   "outputs": [],
   "source": [
    "%load_ext autoreload\n",
    "%autoreload 2"
   ]
  },
  {
   "cell_type": "code",
   "execution_count": 2,
   "metadata": {},
   "outputs": [],
   "source": [
    "import pandas as pd\n",
    "import numpy as np\n",
    "from helpers_train import load_train_dataset, train_data_preprocessing"
   ]
  },
  {
   "cell_type": "code",
   "execution_count": 3,
   "metadata": {},
   "outputs": [
    {
     "name": "stderr",
     "output_type": "stream",
     "text": [
      "Loading Data: 100%|██████████| 5/5 [00:00<00:00,  7.53file/s]\n"
     ]
    },
    {
     "data": {
      "text/html": [
       "<div>\n",
       "<style scoped>\n",
       "    .dataframe tbody tr th:only-of-type {\n",
       "        vertical-align: middle;\n",
       "    }\n",
       "\n",
       "    .dataframe tbody tr th {\n",
       "        vertical-align: top;\n",
       "    }\n",
       "\n",
       "    .dataframe thead th {\n",
       "        text-align: right;\n",
       "    }\n",
       "</style>\n",
       "<table border=\"1\" class=\"dataframe\">\n",
       "  <thead>\n",
       "    <tr style=\"text-align: right;\">\n",
       "      <th></th>\n",
       "      <th>ax</th>\n",
       "      <th>ay</th>\n",
       "      <th>az</th>\n",
       "      <th>wx</th>\n",
       "      <th>wy</th>\n",
       "      <th>wz</th>\n",
       "      <th>angleX</th>\n",
       "      <th>angleY</th>\n",
       "      <th>angleZ</th>\n",
       "      <th>label</th>\n",
       "    </tr>\n",
       "  </thead>\n",
       "  <tbody>\n",
       "    <tr>\n",
       "      <th>29644</th>\n",
       "      <td>0.2632</td>\n",
       "      <td>-0.2749</td>\n",
       "      <td>-0.4512</td>\n",
       "      <td>-84.5947</td>\n",
       "      <td>44.2505</td>\n",
       "      <td>90.6982</td>\n",
       "      <td>-124.7443</td>\n",
       "      <td>-6.5314</td>\n",
       "      <td>-53.0750</td>\n",
       "      <td>running</td>\n",
       "    </tr>\n",
       "    <tr>\n",
       "      <th>74129</th>\n",
       "      <td>0.2580</td>\n",
       "      <td>-0.0170</td>\n",
       "      <td>-3.2780</td>\n",
       "      <td>22.8880</td>\n",
       "      <td>109.8020</td>\n",
       "      <td>62.9880</td>\n",
       "      <td>172.5130</td>\n",
       "      <td>12.9750</td>\n",
       "      <td>76.3280</td>\n",
       "      <td>running</td>\n",
       "    </tr>\n",
       "    <tr>\n",
       "      <th>11548</th>\n",
       "      <td>-0.9185</td>\n",
       "      <td>0.4805</td>\n",
       "      <td>0.0430</td>\n",
       "      <td>43.7622</td>\n",
       "      <td>-16.4185</td>\n",
       "      <td>77.7588</td>\n",
       "      <td>75.4980</td>\n",
       "      <td>48.7683</td>\n",
       "      <td>-52.2235</td>\n",
       "      <td>walking</td>\n",
       "    </tr>\n",
       "    <tr>\n",
       "      <th>5486</th>\n",
       "      <td>-1.5796</td>\n",
       "      <td>-1.4980</td>\n",
       "      <td>0.1729</td>\n",
       "      <td>146.7285</td>\n",
       "      <td>-53.0396</td>\n",
       "      <td>80.6885</td>\n",
       "      <td>-68.7305</td>\n",
       "      <td>37.8259</td>\n",
       "      <td>-131.7206</td>\n",
       "      <td>climbing</td>\n",
       "    </tr>\n",
       "    <tr>\n",
       "      <th>15016</th>\n",
       "      <td>-0.7876</td>\n",
       "      <td>0.3804</td>\n",
       "      <td>-0.1304</td>\n",
       "      <td>-63.7817</td>\n",
       "      <td>64.3921</td>\n",
       "      <td>41.8091</td>\n",
       "      <td>126.7657</td>\n",
       "      <td>57.4969</td>\n",
       "      <td>-74.7235</td>\n",
       "      <td>walking</td>\n",
       "    </tr>\n",
       "    <tr>\n",
       "      <th>59132</th>\n",
       "      <td>0.1960</td>\n",
       "      <td>0.3660</td>\n",
       "      <td>0.1120</td>\n",
       "      <td>-18.8600</td>\n",
       "      <td>-93.4450</td>\n",
       "      <td>-160.7060</td>\n",
       "      <td>177.9570</td>\n",
       "      <td>20.5660</td>\n",
       "      <td>-77.3160</td>\n",
       "      <td>running</td>\n",
       "    </tr>\n",
       "    <tr>\n",
       "      <th>22457</th>\n",
       "      <td>0.0986</td>\n",
       "      <td>0.8037</td>\n",
       "      <td>-0.3833</td>\n",
       "      <td>19.2261</td>\n",
       "      <td>-2.9297</td>\n",
       "      <td>4.7607</td>\n",
       "      <td>112.3077</td>\n",
       "      <td>-9.8602</td>\n",
       "      <td>-114.1425</td>\n",
       "      <td>walking</td>\n",
       "    </tr>\n",
       "    <tr>\n",
       "      <th>15614</th>\n",
       "      <td>-0.6016</td>\n",
       "      <td>0.3271</td>\n",
       "      <td>-0.7466</td>\n",
       "      <td>38.7573</td>\n",
       "      <td>-5.2490</td>\n",
       "      <td>-29.7852</td>\n",
       "      <td>159.4830</td>\n",
       "      <td>37.3975</td>\n",
       "      <td>108.8800</td>\n",
       "      <td>walking</td>\n",
       "    </tr>\n",
       "    <tr>\n",
       "      <th>25759</th>\n",
       "      <td>0.3423</td>\n",
       "      <td>-0.4321</td>\n",
       "      <td>-0.6509</td>\n",
       "      <td>36.9873</td>\n",
       "      <td>13.7939</td>\n",
       "      <td>0.8545</td>\n",
       "      <td>-114.7247</td>\n",
       "      <td>-3.6475</td>\n",
       "      <td>51.2402</td>\n",
       "      <td>running</td>\n",
       "    </tr>\n",
       "    <tr>\n",
       "      <th>9936</th>\n",
       "      <td>-0.3643</td>\n",
       "      <td>-0.7480</td>\n",
       "      <td>-0.2515</td>\n",
       "      <td>-383.4229</td>\n",
       "      <td>182.0068</td>\n",
       "      <td>-125.1831</td>\n",
       "      <td>-134.1046</td>\n",
       "      <td>23.3350</td>\n",
       "      <td>121.1243</td>\n",
       "      <td>climbing</td>\n",
       "    </tr>\n",
       "  </tbody>\n",
       "</table>\n",
       "</div>"
      ],
      "text/plain": [
       "           ax      ay      az        wx        wy        wz    angleX  \\\n",
       "29644  0.2632 -0.2749 -0.4512  -84.5947   44.2505   90.6982 -124.7443   \n",
       "74129  0.2580 -0.0170 -3.2780   22.8880  109.8020   62.9880  172.5130   \n",
       "11548 -0.9185  0.4805  0.0430   43.7622  -16.4185   77.7588   75.4980   \n",
       "5486  -1.5796 -1.4980  0.1729  146.7285  -53.0396   80.6885  -68.7305   \n",
       "15016 -0.7876  0.3804 -0.1304  -63.7817   64.3921   41.8091  126.7657   \n",
       "59132  0.1960  0.3660  0.1120  -18.8600  -93.4450 -160.7060  177.9570   \n",
       "22457  0.0986  0.8037 -0.3833   19.2261   -2.9297    4.7607  112.3077   \n",
       "15614 -0.6016  0.3271 -0.7466   38.7573   -5.2490  -29.7852  159.4830   \n",
       "25759  0.3423 -0.4321 -0.6509   36.9873   13.7939    0.8545 -114.7247   \n",
       "9936  -0.3643 -0.7480 -0.2515 -383.4229  182.0068 -125.1831 -134.1046   \n",
       "\n",
       "        angleY    angleZ     label  \n",
       "29644  -6.5314  -53.0750   running  \n",
       "74129  12.9750   76.3280   running  \n",
       "11548  48.7683  -52.2235   walking  \n",
       "5486   37.8259 -131.7206  climbing  \n",
       "15016  57.4969  -74.7235   walking  \n",
       "59132  20.5660  -77.3160   running  \n",
       "22457  -9.8602 -114.1425   walking  \n",
       "15614  37.3975  108.8800   walking  \n",
       "25759  -3.6475   51.2402   running  \n",
       "9936   23.3350  121.1243  climbing  "
      ]
     },
     "execution_count": 3,
     "metadata": {},
     "output_type": "execute_result"
    }
   ],
   "source": [
    "folder_path = \"processed_data/train\"\n",
    "data_df = load_train_dataset(folder_path)\n",
    "data_df.sample(10)"
   ]
  },
  {
   "cell_type": "code",
   "execution_count": 4,
   "metadata": {},
   "outputs": [
    {
     "name": "stdout",
     "output_type": "stream",
     "text": [
      "Features shape:  (285905, 9)\n",
      "Labels shape:  (285905,)\n"
     ]
    }
   ],
   "source": [
    "features = data_df.iloc[:, :-1]\n",
    "labels = data_df['label']\n",
    "\n",
    "print(\"Features shape: \", features.shape)\n",
    "print(\"Labels shape: \", labels.shape)"
   ]
  },
  {
   "cell_type": "code",
   "execution_count": 5,
   "metadata": {},
   "outputs": [
    {
     "name": "stdout",
     "output_type": "stream",
     "text": [
      "Features shape:  (285905, 9)\n",
      "Labels shape:  (285905, 5)\n"
     ]
    }
   ],
   "source": [
    "features_scaled, labels_categorical = train_data_preprocessing(\n",
    "    features, labels)\n",
    "print(\"Features shape: \", features_scaled.shape)\n",
    "print(\"Labels shape: \", labels_categorical.shape)"
   ]
  },
  {
   "cell_type": "code",
   "execution_count": 6,
   "metadata": {},
   "outputs": [],
   "source": [
    "import torch\n",
    "import torch.nn as nn\n",
    "import torch.optim as optim\n",
    "from torch.utils.data import DataLoader, TensorDataset, Dataset\n",
    "from sklearn.model_selection import train_test_split\n",
    "import numpy as np\n",
    "\n",
    "\n",
    "class LSTM(nn.Module):\n",
    "    def __init__(self, input_size, hidden_sizes, num_classes):\n",
    "        super(LSTM, self).__init__()\n",
    "\n",
    "        self.layers = nn.ModuleList()\n",
    "        for i, hidden_size in enumerate(hidden_sizes):\n",
    "            if i == 0:\n",
    "                self.layers.append(\n",
    "                    nn.LSTM(input_size, hidden_size, batch_first=True))\n",
    "            else:\n",
    "                self.layers.append(\n",
    "                    nn.LSTM(hidden_sizes[i-1], hidden_size, batch_first=True))\n",
    "            setattr(self, f'dropout{i+1}', nn.Dropout(0.3))\n",
    "\n",
    "        # self.lstm1 = nn.LSTM(input_size, hidden_size, batch_first=True)\n",
    "        # self.dropout1 = nn.Dropout(0.3)\n",
    "\n",
    "        # self.lstm2 = nn.LSTM(hidden_size, hidden_size, batch_first=True)\n",
    "        # self.dropout2 = nn.Dropout(0.3)\n",
    "\n",
    "        self.flatten = nn.Flatten()\n",
    "\n",
    "        # nn.Linear(<i/p dim>, <o/p dim>)\n",
    "        self.fc1 = nn.Linear(hidden_size, 2048)\n",
    "        self.dropout5 = nn.Dropout(0.3)\n",
    "\n",
    "        self.fc2 = nn.Linear(2048, 4096)\n",
    "        self.dropout6 = nn.Dropout(0.3)\n",
    "\n",
    "        # self.fc3 = nn.Linear(4096, 1024)\n",
    "        # self.dropout7 = nn.Dropout(0.3)\n",
    "\n",
    "        self.fc4 = nn.Linear(4096, num_classes)\n",
    "\n",
    "    def forward(self, x):\n",
    "        for i, layer in enumerate(self.layers):\n",
    "            x, _ = layer(x)\n",
    "            dropout = getattr(self, f'dropout{i+1}')\n",
    "            x = dropout(x)\n",
    "\n",
    "        x = self.flatten(x)\n",
    "\n",
    "        x = nn.functional.relu(self.fc1(x))\n",
    "        x = self.dropout5(x)\n",
    "\n",
    "        x = nn.functional.relu(self.fc2(x))\n",
    "        x = self.dropout6(x)\n",
    "\n",
    "        # x = nn.functional.relu(self.fc3(x))\n",
    "        # x = self.dropout7(x)\n",
    "\n",
    "        x = self.fc4(x)\n",
    "\n",
    "        return x"
   ]
  },
  {
   "cell_type": "code",
   "execution_count": 7,
   "metadata": {},
   "outputs": [],
   "source": [
    "# Split the data into training and testing sets\n",
    "from tqdm import tqdm\n",
    "\n",
    "features_train, features_test, labels_train, labels_test = train_test_split(\n",
    "    features_scaled, labels_categorical, test_size=0.2, random_state=42\n",
    ")\n",
    "\n",
    "# Convert to PyTorch tensors\n",
    "features_train_tensor = torch.tensor(features_train, dtype=torch.float32)\n",
    "labels_train_tensor = torch.tensor(labels_train.argmax(\n",
    "    axis=1), dtype=torch.long)\n",
    "features_test_tensor = torch.tensor(features_test, dtype=torch.float32)\n",
    "\n",
    "\n",
    "# DataLoader for training\n",
    "batch_size = 256\n",
    "train_dataset = TensorDataset(features_train_tensor, labels_train_tensor)\n",
    "train_dataloader = DataLoader(\n",
    "    train_dataset, batch_size=batch_size)\n",
    "\n",
    "# DataLoader for validation\n",
    "features_valid_tensor = torch.tensor(features_test, dtype=torch.float32)\n",
    "labels_valid_tensor = torch.tensor(labels_test.argmax(\n",
    "    axis=1), dtype=torch.long)  # Assuming one-hot encoding\n",
    "valid_dataset = TensorDataset(features_valid_tensor, labels_valid_tensor)\n",
    "valid_dataloader = DataLoader(\n",
    "    valid_dataset, batch_size=batch_size)\n",
    "\n",
    "# Instantiate the model\n",
    "input_size = features_train_tensor.shape[-1]\n",
    "hidden_sizes = [1028, 1028]\n",
    "num_classes = 5\n",
    "lstm_model = LSTM(input_size, hidden_sizes, num_classes)\n",
    "\n",
    "# Define optimizer and loss function\n",
    "optimizer = optim.Adam(lstm_model.parameters(), lr=0.001)\n",
    "criterion = nn.CrossEntropyLoss()"
   ]
  },
  {
   "cell_type": "code",
   "execution_count": 8,
   "metadata": {},
   "outputs": [
    {
     "name": "stderr",
     "output_type": "stream",
     "text": [
      "Epoch 1/20: 100%|██████████| 1787/1787 [07:04<00:00,  4.21batch/s, loss=0.573]\n"
     ]
    },
    {
     "name": "stdout",
     "output_type": "stream",
     "text": [
      "Average Training Loss: 0.7293108439372116\n",
      "Average Validation Loss: 0.5858661389057535\n"
     ]
    },
    {
     "name": "stderr",
     "output_type": "stream",
     "text": [
      "Epoch 2/20: 100%|██████████| 1787/1787 [07:20<00:00,  4.06batch/s, loss=0.486]\n"
     ]
    },
    {
     "name": "stdout",
     "output_type": "stream",
     "text": [
      "Average Training Loss: 0.603123765470065\n",
      "Average Validation Loss: 0.5491267638718522\n"
     ]
    },
    {
     "name": "stderr",
     "output_type": "stream",
     "text": [
      "Epoch 3/20: 100%|██████████| 1787/1787 [07:17<00:00,  4.08batch/s, loss=0.504]\n"
     ]
    },
    {
     "name": "stdout",
     "output_type": "stream",
     "text": [
      "Average Training Loss: 0.5708783919009405\n",
      "Average Validation Loss: 0.51813829485202\n"
     ]
    },
    {
     "name": "stderr",
     "output_type": "stream",
     "text": [
      "Epoch 4/20: 100%|██████████| 1787/1787 [06:53<00:00,  4.33batch/s, loss=0.52] \n"
     ]
    },
    {
     "name": "stdout",
     "output_type": "stream",
     "text": [
      "Average Training Loss: 0.5533015852742977\n",
      "Average Validation Loss: 0.5292166527485688\n"
     ]
    },
    {
     "name": "stderr",
     "output_type": "stream",
     "text": [
      "Epoch 5/20: 100%|██████████| 1787/1787 [06:54<00:00,  4.31batch/s, loss=0.486]\n"
     ]
    },
    {
     "name": "stdout",
     "output_type": "stream",
     "text": [
      "Average Training Loss: 0.5375914347191796\n",
      "Average Validation Loss: 0.519710216879578\n"
     ]
    },
    {
     "name": "stderr",
     "output_type": "stream",
     "text": [
      "Epoch 6/20: 100%|██████████| 1787/1787 [07:28<00:00,  3.99batch/s, loss=0.536]\n"
     ]
    },
    {
     "name": "stdout",
     "output_type": "stream",
     "text": [
      "Average Training Loss: 0.5261848269558913\n",
      "Average Validation Loss: 0.4707121149005506\n"
     ]
    },
    {
     "name": "stderr",
     "output_type": "stream",
     "text": [
      "Epoch 7/20: 100%|██████████| 1787/1787 [10:33<00:00,  2.82batch/s, loss=0.502]\n"
     ]
    },
    {
     "name": "stdout",
     "output_type": "stream",
     "text": [
      "Average Training Loss: 0.5153962915078447\n",
      "Average Validation Loss: 0.4655301266868643\n"
     ]
    },
    {
     "name": "stderr",
     "output_type": "stream",
     "text": [
      "Epoch 8/20: 100%|██████████| 1787/1787 [10:32<00:00,  2.82batch/s, loss=0.46] \n"
     ]
    },
    {
     "name": "stdout",
     "output_type": "stream",
     "text": [
      "Average Training Loss: 0.5062919336120443\n",
      "Average Validation Loss: 0.4592946908484636\n"
     ]
    },
    {
     "name": "stderr",
     "output_type": "stream",
     "text": [
      "Epoch 9/20:  70%|███████   | 1251/1787 [05:34<02:23,  3.74batch/s, loss=0.472]\n"
     ]
    },
    {
     "ename": "KeyboardInterrupt",
     "evalue": "",
     "output_type": "error",
     "traceback": [
      "\u001b[1;31m---------------------------------------------------------------------------\u001b[0m",
      "\u001b[1;31mKeyboardInterrupt\u001b[0m                         Traceback (most recent call last)",
      "Cell \u001b[1;32mIn[8], line 18\u001b[0m\n\u001b[0;32m     16\u001b[0m loss \u001b[38;5;241m=\u001b[39m criterion(output, batch_labels)\n\u001b[0;32m     17\u001b[0m loss\u001b[38;5;241m.\u001b[39mbackward()\n\u001b[1;32m---> 18\u001b[0m \u001b[43moptimizer\u001b[49m\u001b[38;5;241;43m.\u001b[39;49m\u001b[43mstep\u001b[49m\u001b[43m(\u001b[49m\u001b[43m)\u001b[49m\n\u001b[0;32m     20\u001b[0m train_loss \u001b[38;5;241m+\u001b[39m\u001b[38;5;241m=\u001b[39m loss\u001b[38;5;241m.\u001b[39mitem()\n\u001b[0;32m     21\u001b[0m t\u001b[38;5;241m.\u001b[39mset_postfix({\u001b[38;5;124m'\u001b[39m\u001b[38;5;124mloss\u001b[39m\u001b[38;5;124m'\u001b[39m: loss\u001b[38;5;241m.\u001b[39mitem()})\n",
      "File \u001b[1;32mc:\\Users\\dbhuva26\\AppData\\Local\\Programs\\Python\\Python311\\Lib\\site-packages\\torch\\optim\\optimizer.py:373\u001b[0m, in \u001b[0;36mOptimizer.profile_hook_step.<locals>.wrapper\u001b[1;34m(*args, **kwargs)\u001b[0m\n\u001b[0;32m    368\u001b[0m         \u001b[38;5;28;01melse\u001b[39;00m:\n\u001b[0;32m    369\u001b[0m             \u001b[38;5;28;01mraise\u001b[39;00m \u001b[38;5;167;01mRuntimeError\u001b[39;00m(\n\u001b[0;32m    370\u001b[0m                 \u001b[38;5;124mf\u001b[39m\u001b[38;5;124m\"\u001b[39m\u001b[38;5;132;01m{\u001b[39;00mfunc\u001b[38;5;132;01m}\u001b[39;00m\u001b[38;5;124m must return None or a tuple of (new_args, new_kwargs), but got \u001b[39m\u001b[38;5;132;01m{\u001b[39;00mresult\u001b[38;5;132;01m}\u001b[39;00m\u001b[38;5;124m.\u001b[39m\u001b[38;5;124m\"\u001b[39m\n\u001b[0;32m    371\u001b[0m             )\n\u001b[1;32m--> 373\u001b[0m out \u001b[38;5;241m=\u001b[39m \u001b[43mfunc\u001b[49m\u001b[43m(\u001b[49m\u001b[38;5;241;43m*\u001b[39;49m\u001b[43margs\u001b[49m\u001b[43m,\u001b[49m\u001b[43m \u001b[49m\u001b[38;5;241;43m*\u001b[39;49m\u001b[38;5;241;43m*\u001b[39;49m\u001b[43mkwargs\u001b[49m\u001b[43m)\u001b[49m\n\u001b[0;32m    374\u001b[0m \u001b[38;5;28mself\u001b[39m\u001b[38;5;241m.\u001b[39m_optimizer_step_code()\n\u001b[0;32m    376\u001b[0m \u001b[38;5;66;03m# call optimizer step post hooks\u001b[39;00m\n",
      "File \u001b[1;32mc:\\Users\\dbhuva26\\AppData\\Local\\Programs\\Python\\Python311\\Lib\\site-packages\\torch\\optim\\optimizer.py:76\u001b[0m, in \u001b[0;36m_use_grad_for_differentiable.<locals>._use_grad\u001b[1;34m(self, *args, **kwargs)\u001b[0m\n\u001b[0;32m     74\u001b[0m     torch\u001b[38;5;241m.\u001b[39mset_grad_enabled(\u001b[38;5;28mself\u001b[39m\u001b[38;5;241m.\u001b[39mdefaults[\u001b[38;5;124m'\u001b[39m\u001b[38;5;124mdifferentiable\u001b[39m\u001b[38;5;124m'\u001b[39m])\n\u001b[0;32m     75\u001b[0m     torch\u001b[38;5;241m.\u001b[39m_dynamo\u001b[38;5;241m.\u001b[39mgraph_break()\n\u001b[1;32m---> 76\u001b[0m     ret \u001b[38;5;241m=\u001b[39m \u001b[43mfunc\u001b[49m\u001b[43m(\u001b[49m\u001b[38;5;28;43mself\u001b[39;49m\u001b[43m,\u001b[49m\u001b[43m \u001b[49m\u001b[38;5;241;43m*\u001b[39;49m\u001b[43margs\u001b[49m\u001b[43m,\u001b[49m\u001b[43m \u001b[49m\u001b[38;5;241;43m*\u001b[39;49m\u001b[38;5;241;43m*\u001b[39;49m\u001b[43mkwargs\u001b[49m\u001b[43m)\u001b[49m\n\u001b[0;32m     77\u001b[0m \u001b[38;5;28;01mfinally\u001b[39;00m:\n\u001b[0;32m     78\u001b[0m     torch\u001b[38;5;241m.\u001b[39m_dynamo\u001b[38;5;241m.\u001b[39mgraph_break()\n",
      "File \u001b[1;32mc:\\Users\\dbhuva26\\AppData\\Local\\Programs\\Python\\Python311\\Lib\\site-packages\\torch\\optim\\adam.py:163\u001b[0m, in \u001b[0;36mAdam.step\u001b[1;34m(self, closure)\u001b[0m\n\u001b[0;32m    152\u001b[0m     beta1, beta2 \u001b[38;5;241m=\u001b[39m group[\u001b[38;5;124m'\u001b[39m\u001b[38;5;124mbetas\u001b[39m\u001b[38;5;124m'\u001b[39m]\n\u001b[0;32m    154\u001b[0m     \u001b[38;5;28mself\u001b[39m\u001b[38;5;241m.\u001b[39m_init_group(\n\u001b[0;32m    155\u001b[0m         group,\n\u001b[0;32m    156\u001b[0m         params_with_grad,\n\u001b[1;32m   (...)\u001b[0m\n\u001b[0;32m    160\u001b[0m         max_exp_avg_sqs,\n\u001b[0;32m    161\u001b[0m         state_steps)\n\u001b[1;32m--> 163\u001b[0m     \u001b[43madam\u001b[49m\u001b[43m(\u001b[49m\n\u001b[0;32m    164\u001b[0m \u001b[43m        \u001b[49m\u001b[43mparams_with_grad\u001b[49m\u001b[43m,\u001b[49m\n\u001b[0;32m    165\u001b[0m \u001b[43m        \u001b[49m\u001b[43mgrads\u001b[49m\u001b[43m,\u001b[49m\n\u001b[0;32m    166\u001b[0m \u001b[43m        \u001b[49m\u001b[43mexp_avgs\u001b[49m\u001b[43m,\u001b[49m\n\u001b[0;32m    167\u001b[0m \u001b[43m        \u001b[49m\u001b[43mexp_avg_sqs\u001b[49m\u001b[43m,\u001b[49m\n\u001b[0;32m    168\u001b[0m \u001b[43m        \u001b[49m\u001b[43mmax_exp_avg_sqs\u001b[49m\u001b[43m,\u001b[49m\n\u001b[0;32m    169\u001b[0m \u001b[43m        \u001b[49m\u001b[43mstate_steps\u001b[49m\u001b[43m,\u001b[49m\n\u001b[0;32m    170\u001b[0m \u001b[43m        \u001b[49m\u001b[43mamsgrad\u001b[49m\u001b[38;5;241;43m=\u001b[39;49m\u001b[43mgroup\u001b[49m\u001b[43m[\u001b[49m\u001b[38;5;124;43m'\u001b[39;49m\u001b[38;5;124;43mamsgrad\u001b[39;49m\u001b[38;5;124;43m'\u001b[39;49m\u001b[43m]\u001b[49m\u001b[43m,\u001b[49m\n\u001b[0;32m    171\u001b[0m \u001b[43m        \u001b[49m\u001b[43mbeta1\u001b[49m\u001b[38;5;241;43m=\u001b[39;49m\u001b[43mbeta1\u001b[49m\u001b[43m,\u001b[49m\n\u001b[0;32m    172\u001b[0m \u001b[43m        \u001b[49m\u001b[43mbeta2\u001b[49m\u001b[38;5;241;43m=\u001b[39;49m\u001b[43mbeta2\u001b[49m\u001b[43m,\u001b[49m\n\u001b[0;32m    173\u001b[0m \u001b[43m        \u001b[49m\u001b[43mlr\u001b[49m\u001b[38;5;241;43m=\u001b[39;49m\u001b[43mgroup\u001b[49m\u001b[43m[\u001b[49m\u001b[38;5;124;43m'\u001b[39;49m\u001b[38;5;124;43mlr\u001b[39;49m\u001b[38;5;124;43m'\u001b[39;49m\u001b[43m]\u001b[49m\u001b[43m,\u001b[49m\n\u001b[0;32m    174\u001b[0m \u001b[43m        \u001b[49m\u001b[43mweight_decay\u001b[49m\u001b[38;5;241;43m=\u001b[39;49m\u001b[43mgroup\u001b[49m\u001b[43m[\u001b[49m\u001b[38;5;124;43m'\u001b[39;49m\u001b[38;5;124;43mweight_decay\u001b[39;49m\u001b[38;5;124;43m'\u001b[39;49m\u001b[43m]\u001b[49m\u001b[43m,\u001b[49m\n\u001b[0;32m    175\u001b[0m \u001b[43m        \u001b[49m\u001b[43meps\u001b[49m\u001b[38;5;241;43m=\u001b[39;49m\u001b[43mgroup\u001b[49m\u001b[43m[\u001b[49m\u001b[38;5;124;43m'\u001b[39;49m\u001b[38;5;124;43meps\u001b[39;49m\u001b[38;5;124;43m'\u001b[39;49m\u001b[43m]\u001b[49m\u001b[43m,\u001b[49m\n\u001b[0;32m    176\u001b[0m \u001b[43m        \u001b[49m\u001b[43mmaximize\u001b[49m\u001b[38;5;241;43m=\u001b[39;49m\u001b[43mgroup\u001b[49m\u001b[43m[\u001b[49m\u001b[38;5;124;43m'\u001b[39;49m\u001b[38;5;124;43mmaximize\u001b[39;49m\u001b[38;5;124;43m'\u001b[39;49m\u001b[43m]\u001b[49m\u001b[43m,\u001b[49m\n\u001b[0;32m    177\u001b[0m \u001b[43m        \u001b[49m\u001b[43mforeach\u001b[49m\u001b[38;5;241;43m=\u001b[39;49m\u001b[43mgroup\u001b[49m\u001b[43m[\u001b[49m\u001b[38;5;124;43m'\u001b[39;49m\u001b[38;5;124;43mforeach\u001b[39;49m\u001b[38;5;124;43m'\u001b[39;49m\u001b[43m]\u001b[49m\u001b[43m,\u001b[49m\n\u001b[0;32m    178\u001b[0m \u001b[43m        \u001b[49m\u001b[43mcapturable\u001b[49m\u001b[38;5;241;43m=\u001b[39;49m\u001b[43mgroup\u001b[49m\u001b[43m[\u001b[49m\u001b[38;5;124;43m'\u001b[39;49m\u001b[38;5;124;43mcapturable\u001b[39;49m\u001b[38;5;124;43m'\u001b[39;49m\u001b[43m]\u001b[49m\u001b[43m,\u001b[49m\n\u001b[0;32m    179\u001b[0m \u001b[43m        \u001b[49m\u001b[43mdifferentiable\u001b[49m\u001b[38;5;241;43m=\u001b[39;49m\u001b[43mgroup\u001b[49m\u001b[43m[\u001b[49m\u001b[38;5;124;43m'\u001b[39;49m\u001b[38;5;124;43mdifferentiable\u001b[39;49m\u001b[38;5;124;43m'\u001b[39;49m\u001b[43m]\u001b[49m\u001b[43m,\u001b[49m\n\u001b[0;32m    180\u001b[0m \u001b[43m        \u001b[49m\u001b[43mfused\u001b[49m\u001b[38;5;241;43m=\u001b[39;49m\u001b[43mgroup\u001b[49m\u001b[43m[\u001b[49m\u001b[38;5;124;43m'\u001b[39;49m\u001b[38;5;124;43mfused\u001b[39;49m\u001b[38;5;124;43m'\u001b[39;49m\u001b[43m]\u001b[49m\u001b[43m,\u001b[49m\n\u001b[0;32m    181\u001b[0m \u001b[43m        \u001b[49m\u001b[43mgrad_scale\u001b[49m\u001b[38;5;241;43m=\u001b[39;49m\u001b[38;5;28;43mgetattr\u001b[39;49m\u001b[43m(\u001b[49m\u001b[38;5;28;43mself\u001b[39;49m\u001b[43m,\u001b[49m\u001b[43m \u001b[49m\u001b[38;5;124;43m\"\u001b[39;49m\u001b[38;5;124;43mgrad_scale\u001b[39;49m\u001b[38;5;124;43m\"\u001b[39;49m\u001b[43m,\u001b[49m\u001b[43m \u001b[49m\u001b[38;5;28;43;01mNone\u001b[39;49;00m\u001b[43m)\u001b[49m\u001b[43m,\u001b[49m\n\u001b[0;32m    182\u001b[0m \u001b[43m        \u001b[49m\u001b[43mfound_inf\u001b[49m\u001b[38;5;241;43m=\u001b[39;49m\u001b[38;5;28;43mgetattr\u001b[39;49m\u001b[43m(\u001b[49m\u001b[38;5;28;43mself\u001b[39;49m\u001b[43m,\u001b[49m\u001b[43m \u001b[49m\u001b[38;5;124;43m\"\u001b[39;49m\u001b[38;5;124;43mfound_inf\u001b[39;49m\u001b[38;5;124;43m\"\u001b[39;49m\u001b[43m,\u001b[49m\u001b[43m \u001b[49m\u001b[38;5;28;43;01mNone\u001b[39;49;00m\u001b[43m)\u001b[49m\u001b[43m,\u001b[49m\n\u001b[0;32m    183\u001b[0m \u001b[43m    \u001b[49m\u001b[43m)\u001b[49m\n\u001b[0;32m    185\u001b[0m \u001b[38;5;28;01mreturn\u001b[39;00m loss\n",
      "File \u001b[1;32mc:\\Users\\dbhuva26\\AppData\\Local\\Programs\\Python\\Python311\\Lib\\site-packages\\torch\\optim\\adam.py:311\u001b[0m, in \u001b[0;36madam\u001b[1;34m(params, grads, exp_avgs, exp_avg_sqs, max_exp_avg_sqs, state_steps, foreach, capturable, differentiable, fused, grad_scale, found_inf, amsgrad, beta1, beta2, lr, weight_decay, eps, maximize)\u001b[0m\n\u001b[0;32m    308\u001b[0m \u001b[38;5;28;01melse\u001b[39;00m:\n\u001b[0;32m    309\u001b[0m     func \u001b[38;5;241m=\u001b[39m _single_tensor_adam\n\u001b[1;32m--> 311\u001b[0m \u001b[43mfunc\u001b[49m\u001b[43m(\u001b[49m\u001b[43mparams\u001b[49m\u001b[43m,\u001b[49m\n\u001b[0;32m    312\u001b[0m \u001b[43m     \u001b[49m\u001b[43mgrads\u001b[49m\u001b[43m,\u001b[49m\n\u001b[0;32m    313\u001b[0m \u001b[43m     \u001b[49m\u001b[43mexp_avgs\u001b[49m\u001b[43m,\u001b[49m\n\u001b[0;32m    314\u001b[0m \u001b[43m     \u001b[49m\u001b[43mexp_avg_sqs\u001b[49m\u001b[43m,\u001b[49m\n\u001b[0;32m    315\u001b[0m \u001b[43m     \u001b[49m\u001b[43mmax_exp_avg_sqs\u001b[49m\u001b[43m,\u001b[49m\n\u001b[0;32m    316\u001b[0m \u001b[43m     \u001b[49m\u001b[43mstate_steps\u001b[49m\u001b[43m,\u001b[49m\n\u001b[0;32m    317\u001b[0m \u001b[43m     \u001b[49m\u001b[43mamsgrad\u001b[49m\u001b[38;5;241;43m=\u001b[39;49m\u001b[43mamsgrad\u001b[49m\u001b[43m,\u001b[49m\n\u001b[0;32m    318\u001b[0m \u001b[43m     \u001b[49m\u001b[43mbeta1\u001b[49m\u001b[38;5;241;43m=\u001b[39;49m\u001b[43mbeta1\u001b[49m\u001b[43m,\u001b[49m\n\u001b[0;32m    319\u001b[0m \u001b[43m     \u001b[49m\u001b[43mbeta2\u001b[49m\u001b[38;5;241;43m=\u001b[39;49m\u001b[43mbeta2\u001b[49m\u001b[43m,\u001b[49m\n\u001b[0;32m    320\u001b[0m \u001b[43m     \u001b[49m\u001b[43mlr\u001b[49m\u001b[38;5;241;43m=\u001b[39;49m\u001b[43mlr\u001b[49m\u001b[43m,\u001b[49m\n\u001b[0;32m    321\u001b[0m \u001b[43m     \u001b[49m\u001b[43mweight_decay\u001b[49m\u001b[38;5;241;43m=\u001b[39;49m\u001b[43mweight_decay\u001b[49m\u001b[43m,\u001b[49m\n\u001b[0;32m    322\u001b[0m \u001b[43m     \u001b[49m\u001b[43meps\u001b[49m\u001b[38;5;241;43m=\u001b[39;49m\u001b[43meps\u001b[49m\u001b[43m,\u001b[49m\n\u001b[0;32m    323\u001b[0m \u001b[43m     \u001b[49m\u001b[43mmaximize\u001b[49m\u001b[38;5;241;43m=\u001b[39;49m\u001b[43mmaximize\u001b[49m\u001b[43m,\u001b[49m\n\u001b[0;32m    324\u001b[0m \u001b[43m     \u001b[49m\u001b[43mcapturable\u001b[49m\u001b[38;5;241;43m=\u001b[39;49m\u001b[43mcapturable\u001b[49m\u001b[43m,\u001b[49m\n\u001b[0;32m    325\u001b[0m \u001b[43m     \u001b[49m\u001b[43mdifferentiable\u001b[49m\u001b[38;5;241;43m=\u001b[39;49m\u001b[43mdifferentiable\u001b[49m\u001b[43m,\u001b[49m\n\u001b[0;32m    326\u001b[0m \u001b[43m     \u001b[49m\u001b[43mgrad_scale\u001b[49m\u001b[38;5;241;43m=\u001b[39;49m\u001b[43mgrad_scale\u001b[49m\u001b[43m,\u001b[49m\n\u001b[0;32m    327\u001b[0m \u001b[43m     \u001b[49m\u001b[43mfound_inf\u001b[49m\u001b[38;5;241;43m=\u001b[39;49m\u001b[43mfound_inf\u001b[49m\u001b[43m)\u001b[49m\n",
      "File \u001b[1;32mc:\\Users\\dbhuva26\\AppData\\Local\\Programs\\Python\\Python311\\Lib\\site-packages\\torch\\optim\\adam.py:384\u001b[0m, in \u001b[0;36m_single_tensor_adam\u001b[1;34m(params, grads, exp_avgs, exp_avg_sqs, max_exp_avg_sqs, state_steps, grad_scale, found_inf, amsgrad, beta1, beta2, lr, weight_decay, eps, maximize, capturable, differentiable)\u001b[0m\n\u001b[0;32m    381\u001b[0m     param \u001b[38;5;241m=\u001b[39m torch\u001b[38;5;241m.\u001b[39mview_as_real(param)\n\u001b[0;32m    383\u001b[0m \u001b[38;5;66;03m# Decay the first and second moment running average coefficient\u001b[39;00m\n\u001b[1;32m--> 384\u001b[0m \u001b[43mexp_avg\u001b[49m\u001b[38;5;241;43m.\u001b[39;49m\u001b[43mlerp_\u001b[49m\u001b[43m(\u001b[49m\u001b[43mgrad\u001b[49m\u001b[43m,\u001b[49m\u001b[43m \u001b[49m\u001b[38;5;241;43m1\u001b[39;49m\u001b[43m \u001b[49m\u001b[38;5;241;43m-\u001b[39;49m\u001b[43m \u001b[49m\u001b[43mbeta1\u001b[49m\u001b[43m)\u001b[49m\n\u001b[0;32m    385\u001b[0m exp_avg_sq\u001b[38;5;241m.\u001b[39mmul_(beta2)\u001b[38;5;241m.\u001b[39maddcmul_(grad, grad\u001b[38;5;241m.\u001b[39mconj(), value\u001b[38;5;241m=\u001b[39m\u001b[38;5;241m1\u001b[39m \u001b[38;5;241m-\u001b[39m beta2)\n\u001b[0;32m    387\u001b[0m \u001b[38;5;28;01mif\u001b[39;00m capturable \u001b[38;5;129;01mor\u001b[39;00m differentiable:\n",
      "\u001b[1;31mKeyboardInterrupt\u001b[0m: "
     ]
    }
   ],
   "source": [
    "num_epochs = 20\n",
    "early_stopping_patience = 3\n",
    "best_valid_loss = float('inf')\n",
    "no_improvement_count = 0\n",
    "\n",
    "for epoch in range(num_epochs):\n",
    "    # Training phase\n",
    "    lstm_model.train()\n",
    "    train_loss = 0.0\n",
    "    train_batches = len(train_dataloader)\n",
    "\n",
    "    with tqdm(total=train_batches, desc=f'Epoch {epoch+1}/{num_epochs}', unit='batch') as t:\n",
    "        for batch_features, batch_labels in train_dataloader:\n",
    "            optimizer.zero_grad()\n",
    "            output = lstm_model(batch_features.unsqueeze(1))\n",
    "            loss = criterion(output, batch_labels)\n",
    "            loss.backward()\n",
    "            optimizer.step()\n",
    "\n",
    "            train_loss += loss.item()\n",
    "            t.set_postfix({'loss': loss.item()})\n",
    "            t.update()\n",
    "\n",
    "    avg_train_loss = train_loss / train_batches\n",
    "    print(f'Average Training Loss: {avg_train_loss}')\n",
    "\n",
    "    # Validation phase\n",
    "    lstm_model.eval()\n",
    "    valid_loss = 0.0\n",
    "    valid_batches = len(valid_dataloader)\n",
    "\n",
    "    with torch.no_grad():\n",
    "        for batch_features, batch_labels in valid_dataloader:\n",
    "            output = lstm_model(batch_features.unsqueeze(1))\n",
    "            loss = criterion(output, batch_labels)\n",
    "            valid_loss += loss.item()\n",
    "\n",
    "    avg_valid_loss = valid_loss / valid_batches\n",
    "    print(f'Average Validation Loss: {avg_valid_loss}')\n",
    "\n",
    "    # Early stopping check\n",
    "    if avg_valid_loss < best_valid_loss:\n",
    "        best_valid_loss = avg_valid_loss\n",
    "        no_improvement_count = 0\n",
    "    else:\n",
    "        no_improvement_count += 1\n",
    "\n",
    "    if no_improvement_count >= early_stopping_patience:\n",
    "        print(f'Early stopping after {epoch+1} epochs without improvement.')\n",
    "        break"
   ]
  },
  {
   "cell_type": "code",
   "execution_count": null,
   "metadata": {},
   "outputs": [],
   "source": [
    "# Save the model\n",
    "torch.save(lstm_model.state_dict(), 'utils/lstm_model.pth')"
   ]
  },
  {
   "cell_type": "code",
   "execution_count": null,
   "metadata": {},
   "outputs": [
    {
     "ename": "NameError",
     "evalue": "name 'f' is not defined",
     "output_type": "error",
     "traceback": [
      "\u001b[1;31m---------------------------------------------------------------------------\u001b[0m",
      "\u001b[1;31mNameError\u001b[0m                                 Traceback (most recent call last)",
      "Cell \u001b[1;32mIn[1], line 1\u001b[0m\n\u001b[1;32m----> 1\u001b[0m \u001b[43mf\u001b[49m\n",
      "\u001b[1;31mNameError\u001b[0m: name 'f' is not defined"
     ]
    }
   ],
   "source": [
    "f"
   ]
  },
  {
   "cell_type": "code",
   "execution_count": null,
   "metadata": {},
   "outputs": [],
   "source": [
    "from helpers_test import make_prediction, read_file, test_data_preprocessing"
   ]
  },
  {
   "cell_type": "code",
   "execution_count": null,
   "metadata": {},
   "outputs": [
    {
     "data": {
      "text/html": [
       "<div>\n",
       "<style scoped>\n",
       "    .dataframe tbody tr th:only-of-type {\n",
       "        vertical-align: middle;\n",
       "    }\n",
       "\n",
       "    .dataframe tbody tr th {\n",
       "        vertical-align: top;\n",
       "    }\n",
       "\n",
       "    .dataframe thead th {\n",
       "        text-align: right;\n",
       "    }\n",
       "</style>\n",
       "<table border=\"1\" class=\"dataframe\">\n",
       "  <thead>\n",
       "    <tr style=\"text-align: right;\">\n",
       "      <th></th>\n",
       "      <th>ax</th>\n",
       "      <th>ay</th>\n",
       "      <th>az</th>\n",
       "      <th>wx</th>\n",
       "      <th>wy</th>\n",
       "      <th>wz</th>\n",
       "      <th>angleX</th>\n",
       "      <th>angleY</th>\n",
       "      <th>angleZ</th>\n",
       "      <th>labels</th>\n",
       "    </tr>\n",
       "  </thead>\n",
       "  <tbody>\n",
       "    <tr>\n",
       "      <th>0</th>\n",
       "      <td>-0.515</td>\n",
       "      <td>0.024</td>\n",
       "      <td>-0.869</td>\n",
       "      <td>20.569</td>\n",
       "      <td>-4.700</td>\n",
       "      <td>28.137</td>\n",
       "      <td>175.567</td>\n",
       "      <td>28.460</td>\n",
       "      <td>96.081</td>\n",
       "      <td>climbing</td>\n",
       "    </tr>\n",
       "    <tr>\n",
       "      <th>1</th>\n",
       "      <td>-0.504</td>\n",
       "      <td>0.024</td>\n",
       "      <td>-0.869</td>\n",
       "      <td>20.569</td>\n",
       "      <td>-4.700</td>\n",
       "      <td>28.137</td>\n",
       "      <td>175.616</td>\n",
       "      <td>28.488</td>\n",
       "      <td>95.757</td>\n",
       "      <td>climbing</td>\n",
       "    </tr>\n",
       "    <tr>\n",
       "      <th>2</th>\n",
       "      <td>-0.504</td>\n",
       "      <td>0.024</td>\n",
       "      <td>-0.875</td>\n",
       "      <td>22.888</td>\n",
       "      <td>-5.432</td>\n",
       "      <td>26.062</td>\n",
       "      <td>175.682</td>\n",
       "      <td>28.526</td>\n",
       "      <td>95.444</td>\n",
       "      <td>climbing</td>\n",
       "    </tr>\n",
       "    <tr>\n",
       "      <th>3</th>\n",
       "      <td>-0.493</td>\n",
       "      <td>0.024</td>\n",
       "      <td>-0.875</td>\n",
       "      <td>22.888</td>\n",
       "      <td>-5.432</td>\n",
       "      <td>26.062</td>\n",
       "      <td>175.770</td>\n",
       "      <td>28.564</td>\n",
       "      <td>95.147</td>\n",
       "      <td>climbing</td>\n",
       "    </tr>\n",
       "    <tr>\n",
       "      <th>4</th>\n",
       "      <td>-0.493</td>\n",
       "      <td>0.048</td>\n",
       "      <td>-0.879</td>\n",
       "      <td>24.292</td>\n",
       "      <td>-4.700</td>\n",
       "      <td>22.949</td>\n",
       "      <td>175.875</td>\n",
       "      <td>28.603</td>\n",
       "      <td>94.861</td>\n",
       "      <td>climbing</td>\n",
       "    </tr>\n",
       "    <tr>\n",
       "      <th>...</th>\n",
       "      <td>...</td>\n",
       "      <td>...</td>\n",
       "      <td>...</td>\n",
       "      <td>...</td>\n",
       "      <td>...</td>\n",
       "      <td>...</td>\n",
       "      <td>...</td>\n",
       "      <td>...</td>\n",
       "      <td>...</td>\n",
       "      <td>...</td>\n",
       "    </tr>\n",
       "    <tr>\n",
       "      <th>16179</th>\n",
       "      <td>-0.460</td>\n",
       "      <td>0.012</td>\n",
       "      <td>-0.893</td>\n",
       "      <td>1.526</td>\n",
       "      <td>2.686</td>\n",
       "      <td>6.653</td>\n",
       "      <td>-179.594</td>\n",
       "      <td>25.598</td>\n",
       "      <td>-0.687</td>\n",
       "      <td>walking</td>\n",
       "    </tr>\n",
       "    <tr>\n",
       "      <th>16180</th>\n",
       "      <td>-0.464</td>\n",
       "      <td>0.012</td>\n",
       "      <td>-0.893</td>\n",
       "      <td>1.526</td>\n",
       "      <td>2.686</td>\n",
       "      <td>6.653</td>\n",
       "      <td>-179.599</td>\n",
       "      <td>25.576</td>\n",
       "      <td>-0.758</td>\n",
       "      <td>walking</td>\n",
       "    </tr>\n",
       "    <tr>\n",
       "      <th>16181</th>\n",
       "      <td>-0.464</td>\n",
       "      <td>0.010</td>\n",
       "      <td>-0.889</td>\n",
       "      <td>-1.526</td>\n",
       "      <td>0.366</td>\n",
       "      <td>3.845</td>\n",
       "      <td>-179.615</td>\n",
       "      <td>25.565</td>\n",
       "      <td>-0.813</td>\n",
       "      <td>walking</td>\n",
       "    </tr>\n",
       "    <tr>\n",
       "      <th>16182</th>\n",
       "      <td>-0.450</td>\n",
       "      <td>0.010</td>\n",
       "      <td>-0.889</td>\n",
       "      <td>-1.526</td>\n",
       "      <td>0.366</td>\n",
       "      <td>3.845</td>\n",
       "      <td>-179.643</td>\n",
       "      <td>25.565</td>\n",
       "      <td>-0.851</td>\n",
       "      <td>walking</td>\n",
       "    </tr>\n",
       "    <tr>\n",
       "      <th>16183</th>\n",
       "      <td>-0.450</td>\n",
       "      <td>0.010</td>\n",
       "      <td>-0.890</td>\n",
       "      <td>1.038</td>\n",
       "      <td>0.854</td>\n",
       "      <td>1.831</td>\n",
       "      <td>-179.654</td>\n",
       "      <td>25.565</td>\n",
       "      <td>-0.879</td>\n",
       "      <td>walking</td>\n",
       "    </tr>\n",
       "  </tbody>\n",
       "</table>\n",
       "<p>16184 rows × 10 columns</p>\n",
       "</div>"
      ],
      "text/plain": [
       "          ax     ay     az      wx     wy      wz   angleX  angleY  angleZ  \\\n",
       "0     -0.515  0.024 -0.869  20.569 -4.700  28.137  175.567  28.460  96.081   \n",
       "1     -0.504  0.024 -0.869  20.569 -4.700  28.137  175.616  28.488  95.757   \n",
       "2     -0.504  0.024 -0.875  22.888 -5.432  26.062  175.682  28.526  95.444   \n",
       "3     -0.493  0.024 -0.875  22.888 -5.432  26.062  175.770  28.564  95.147   \n",
       "4     -0.493  0.048 -0.879  24.292 -4.700  22.949  175.875  28.603  94.861   \n",
       "...      ...    ...    ...     ...    ...     ...      ...     ...     ...   \n",
       "16179 -0.460  0.012 -0.893   1.526  2.686   6.653 -179.594  25.598  -0.687   \n",
       "16180 -0.464  0.012 -0.893   1.526  2.686   6.653 -179.599  25.576  -0.758   \n",
       "16181 -0.464  0.010 -0.889  -1.526  0.366   3.845 -179.615  25.565  -0.813   \n",
       "16182 -0.450  0.010 -0.889  -1.526  0.366   3.845 -179.643  25.565  -0.851   \n",
       "16183 -0.450  0.010 -0.890   1.038  0.854   1.831 -179.654  25.565  -0.879   \n",
       "\n",
       "         labels  \n",
       "0      climbing  \n",
       "1      climbing  \n",
       "2      climbing  \n",
       "3      climbing  \n",
       "4      climbing  \n",
       "...         ...  \n",
       "16179   walking  \n",
       "16180   walking  \n",
       "16181   walking  \n",
       "16182   walking  \n",
       "16183   walking  \n",
       "\n",
       "[16184 rows x 10 columns]"
      ]
     },
     "execution_count": 71,
     "metadata": {},
     "output_type": "execute_result"
    }
   ],
   "source": [
    "# Process Raw Data\n",
    "file_path = \"processed_data/test/test1.csv\"\n",
    "test_data_df = read_file(file_path)\n",
    "test_data_df"
   ]
  },
  {
   "cell_type": "code",
   "execution_count": null,
   "metadata": {},
   "outputs": [],
   "source": [
    "labels = test_data_df['labels']\n",
    "test_data_df = test_data_df.iloc[:, :-1]"
   ]
  },
  {
   "cell_type": "code",
   "execution_count": null,
   "metadata": {},
   "outputs": [],
   "source": [
    "scaled_data = test_data_preprocessing(test_data_df)"
   ]
  },
  {
   "cell_type": "code",
   "execution_count": null,
   "metadata": {},
   "outputs": [],
   "source": [
    "# Reshape X to be 3D for LSTM input (samples, time steps, features)\n",
    "n_samples, n_features = scaled_data.shape\n",
    "scaled_data = scaled_data.reshape((n_samples, 1, n_features))"
   ]
  },
  {
   "cell_type": "code",
   "execution_count": null,
   "metadata": {},
   "outputs": [
    {
     "name": "stdout",
     "output_type": "stream",
     "text": [
      "506/506 [==============================] - 1s 888us/step\n",
      "All actions:  ['sitting' 'sitting' 'sitting' ... 'climbing' 'climbing' 'climbing']\n",
      "One action:  lying\n"
     ]
    }
   ],
   "source": [
    "# Make predictions\n",
    "all_actions, one_action = make_prediction(lstm_model, scaled_data)\n",
    "print(\"All actions: \", all_actions)\n",
    "print(\"One action: \", one_action)"
   ]
  },
  {
   "cell_type": "code",
   "execution_count": null,
   "metadata": {},
   "outputs": [
    {
     "data": {
      "image/png": "[encoded data removed]",
      "text/plain": [
       "<Figure size 1000x500 with 1 Axes>"
      ]
     },
     "metadata": {},
     "output_type": "display_data"
    }
   ],
   "source": [
    "# Draw a freq chart for all actions, different colors for each action\n",
    "import matplotlib.pyplot as plt\n",
    "import seaborn as sns\n",
    "\n",
    "plt.figure(figsize=(10, 5))\n",
    "sns.countplot(x=all_actions, palette=\"Set2\")\n",
    "plt.title('All actions')\n",
    "plt.show()"
   ]
  },
  {
   "cell_type": "code",
   "execution_count": null,
   "metadata": {},
   "outputs": [
    {
     "data": {
      "image/png": "[encoded data removed]",
      "text/plain": [
       "<Figure size 1000x500 with 1 Axes>"
      ]
     },
     "metadata": {},
     "output_type": "display_data"
    }
   ],
   "source": [
    "# Draw a line chart for all actions, different colors for each action\n",
    "plt.figure(figsize=(10, 5))\n",
    "plt.plot(all_actions, color='blue')\n",
    "plt.title('All actions')\n",
    "plt.show()"
   ]
  },
  {
   "cell_type": "code",
   "execution_count": null,
   "metadata": {},
   "outputs": [
    {
     "data": {
      "text/plain": [
       "0.6138779041028176"
      ]
     },
     "execution_count": 78,
     "metadata": {},
     "output_type": "execute_result"
    }
   ],
   "source": [
    "# Accuracy score\n",
    "from sklearn.metrics import accuracy_score\n",
    "accuracy_score(labels, all_actions)"
   ]
  },
  {
   "cell_type": "code",
   "execution_count": null,
   "metadata": {},
   "outputs": [],
   "source": []
  }
 ],
 "metadata": {
  "kernelspec": {
   "display_name": "Python 3",
   "language": "python",
   "name": "python3"
  },
  "language_info": {
   "codemirror_mode": {
    "name": "ipython",
    "version": 3
   },
   "file_extension": ".py",
   "mimetype": "text/x-python",
   "name": "python",
   "nbconvert_exporter": "python",
   "pygments_lexer": "ipython3",
   "version": "3.11.5"
  }
 },
 "nbformat": 4,
 "nbformat_minor": 2
}
