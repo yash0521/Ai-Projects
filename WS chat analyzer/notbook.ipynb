{
 "cells": [
  {
   "cell_type": "code",
   "execution_count": 1,
   "metadata": {},
   "outputs": [],
   "source": [
    "import re\n",
    "import pandas as pd"
   ]
  },
  {
   "cell_type": "code",
   "execution_count": null,
   "metadata": {},
   "outputs": [],
   "source": [
    "file = open(\"./WS-Chat.txt\", \"r\", encoding=\"utf-8\")\n",
    "data = file.read()\n",
    "# print(data)"
   ]
  },
  {
   "cell_type": "code",
   "execution_count": 3,
   "metadata": {},
   "outputs": [],
   "source": [
    "# Re expression to get only msg, and remove time and date\n",
    "# i.e: \"26/12/2000, 12:00 - \"\n",
    "pattern = '\\d{1,2}/\\d{1,2}/\\d{2,4},\\s\\d{1,2}:\\d{2}\\s-\\s'\n",
    "# pattern='\\d{1,2}\\/\\d{1,2}\\/\\d{2},\\s\\d{1,2}:\\d{2}\\s(?:AM|PM)'  #This Pattern fo rAM/PM timing"
   ]
  },
  {
   "cell_type": "code",
   "execution_count": null,
   "metadata": {},
   "outputs": [],
   "source": [
    "message = re.split(pattern, data, flags=re.I)[1:]\n",
    "print(message)"
   ]
  },
  {
   "cell_type": "code",
   "execution_count": null,
   "metadata": {},
   "outputs": [],
   "source": [
    "dates = re.findall(pattern, data)\n",
    "print(dates)"
   ]
  },
  {
   "cell_type": "code",
   "execution_count": null,
   "metadata": {},
   "outputs": [],
   "source": [
    "df = pd.DataFrame({'user_message': message, 'message_date': dates})\n",
    "\n",
    "# Converting message_date type\n",
    "df['message_date'] = pd.to_datetime(\n",
    "    df['message_date'], format='%d/%m/%Y, %H:%M - ')\n",
    "\n",
    "df.rename(columns={\"message_date\": \"date\"}, inplace=True)\n",
    "df.head()"
   ]
  },
  {
   "cell_type": "code",
   "execution_count": 7,
   "metadata": {},
   "outputs": [
    {
     "data": {
      "text/plain": [
       "(3290, 2)"
      ]
     },
     "execution_count": 7,
     "metadata": {},
     "output_type": "execute_result"
    }
   ],
   "source": [
    "df.shape"
   ]
  },
  {
   "cell_type": "code",
   "execution_count": null,
   "metadata": {},
   "outputs": [],
   "source": [
    "user = []\n",
    "messages = []\n",
    "for message in df[\"user_message\"]:\n",
    "    entry = re.split(\"([\\w\\W]+?):\\s\", message)\n",
    "    if entry[1:]:\n",
    "        user.append(entry[1])\n",
    "        messages.append(entry[2])\n",
    "    else:\n",
    "        user.append(\"group_notification\")\n",
    "        messages.append(entry[0])\n",
    "\n",
    "df[\"user\"] = user\n",
    "df[\"message\"] = messages\n",
    "df.drop(columns=[\"user_message\"], inplace=True)\n",
    "\n",
    "df.head()"
   ]
  },
  {
   "cell_type": "code",
   "execution_count": null,
   "metadata": {},
   "outputs": [],
   "source": [
    "df[\"year\"] = df[\"date\"].dt.year\n",
    "df[\"month\"] = df[\"date\"].dt.month_name()\n",
    "df[\"day\"] = df[\"date\"].dt.day\n",
    "df[\"hour\"] = df[\"date\"].dt.hour\n",
    "df[\"minute\"] = df[\"date\"].dt.minute\n",
    "df.head()"
   ]
  },
  {
   "cell_type": "code",
   "execution_count": 10,
   "metadata": {},
   "outputs": [
    {
     "data": {
      "text/plain": [
       "14651"
      ]
     },
     "execution_count": 10,
     "metadata": {},
     "output_type": "execute_result"
    }
   ],
   "source": [
    "words = []\n",
    "for message in df[\"message\"]:\n",
    "    words.extend(message.split())\n",
    "len(words)"
   ]
  },
  {
   "cell_type": "code",
   "execution_count": null,
   "metadata": {},
   "outputs": [],
   "source": [
    "# Get number of media\n",
    "df[df[\"message\"] == \"<Media omitted>\\n\"]"
   ]
  },
  {
   "cell_type": "code",
   "execution_count": null,
   "metadata": {},
   "outputs": [],
   "source": [
    "# Get number of link\n",
    "\n",
    "from urlextract import URLExtract\n",
    "extractor = URLExtract()\n",
    "urls = extractor.find_urls(\n",
    "    \"This consists of link www.google.com and www.facebook.com\")\n",
    "print(len(urls))\n",
    "print(urls)"
   ]
  },
  {
   "cell_type": "code",
   "execution_count": null,
   "metadata": {},
   "outputs": [],
   "source": [
    "# The most buesiest user for group only\n",
    "x = df[\"user\"].value_counts().head()\n",
    "x"
   ]
  },
  {
   "cell_type": "code",
   "execution_count": null,
   "metadata": {},
   "outputs": [],
   "source": [
    "import matplotlib.pyplot as plt\n",
    "name = x.index\n",
    "count = x.values\n",
    "\n",
    "plt.bar(name, count)\n",
    "plt.xticks(rotation=90)\n",
    "plt.show()"
   ]
  },
  {
   "cell_type": "code",
   "execution_count": null,
   "metadata": {},
   "outputs": [],
   "source": [
    "# round((df[\"user\"].value_counts() / df.shape[0])*100, 2)\n",
    "# round((df[\"user\"].value_counts() / df.shape[0])*100, 2).reset_index()\n",
    "round((df[\"user\"].value_counts() / df.shape[0])*100,\n",
    "      2).reset_index().rename(columns={\"index\": \"name\", \"user\": \"percentage\"})"
   ]
  },
  {
   "cell_type": "code",
   "execution_count": null,
   "metadata": {},
   "outputs": [],
   "source": [
    "df[\"message\"].str.cat(sep=\"\")"
   ]
  },
  {
   "cell_type": "code",
   "execution_count": 17,
   "metadata": {},
   "outputs": [],
   "source": [
    "# Remvoing Group notification\n",
    "temp = df[df[\"user\"] != \"group_notification\"]\n",
    "\n",
    "# Removing Media omitted\n",
    "temp = temp[temp[\"message\"] != \"<Media omitted>\\n\"]\n",
    "\n",
    "# Removing stop words\n",
    "# Here chat could be in hindi, so we can't use default stop words removal from nltk\n",
    "# We create a file of common Hinglish words and use it\n",
    "\n",
    "stopWords_file = open(\"./stop_hinglish.txt\", \"r\")\n",
    "stop_words = stopWords_file.read()\n",
    "# print(stop_words)"
   ]
  },
  {
   "cell_type": "code",
   "execution_count": 18,
   "metadata": {},
   "outputs": [],
   "source": [
    "words = []\n",
    "\n",
    "for message in temp[\"message\"]:\n",
    "    for word in message.lower().split():\n",
    "        if (word not in stop_words):\n",
    "            words.append(word)"
   ]
  },
  {
   "cell_type": "code",
   "execution_count": null,
   "metadata": {},
   "outputs": [],
   "source": [
    "from collections import Counter\n",
    "pd.DataFrame(Counter(words).most_common(20))"
   ]
  },
  {
   "cell_type": "code",
   "execution_count": null,
   "metadata": {},
   "outputs": [],
   "source": [
    "# Finding most cmn emojis\n",
    "import emoji\n",
    "\n",
    "emojis = []\n",
    "for message in df[\"message\"]:\n",
    "    emojis.extend([c for c in message if c in emoji.EMOJI_DATA])\n",
    "\n",
    "pd.DataFrame(Counter(emojis).most_common(len(Counter(emojis))))"
   ]
  },
  {
   "cell_type": "code",
   "execution_count": 21,
   "metadata": {},
   "outputs": [],
   "source": [
    "# Timeline analysis\n",
    "df[\"month_num\"] = df[\"date\"].dt.month"
   ]
  },
  {
   "cell_type": "code",
   "execution_count": null,
   "metadata": {},
   "outputs": [],
   "source": [
    "timeline = df.groupby([\"year\", \"month_num\", \"month\"]).count()[\n",
    "    \"message\"].reset_index()\n",
    "timeline"
   ]
  },
  {
   "cell_type": "code",
   "execution_count": null,
   "metadata": {},
   "outputs": [],
   "source": [
    "time = []\n",
    "for i in range(timeline.shape[0]):\n",
    "    time.append(timeline[\"month\"][i] + \"-\" + str(timeline[\"year\"][i]))\n",
    "timeline[\"time\"] = time\n",
    "timeline"
   ]
  },
  {
   "cell_type": "code",
   "execution_count": null,
   "metadata": {},
   "outputs": [],
   "source": [
    "plt.plot(timeline[\"time\"], timeline[\"message\"])\n",
    "plt.xticks(rotation=90)\n",
    "plt.show()"
   ]
  },
  {
   "cell_type": "code",
   "execution_count": 25,
   "metadata": {},
   "outputs": [],
   "source": [
    "# Daily timeline analysis\n",
    "df[\"separate_date\"] = df[\"date\"].dt.date\n",
    "\n",
    "daily_timeline = df.groupby(\"separate_date\").count()[\"message\"].reset_index()"
   ]
  },
  {
   "cell_type": "code",
   "execution_count": null,
   "metadata": {},
   "outputs": [],
   "source": [
    "plt.figure(figsize=(18, 10))\n",
    "plt.plot(daily_timeline[\"separate_date\"], daily_timeline[\"message\"])"
   ]
  },
  {
   "cell_type": "code",
   "execution_count": null,
   "metadata": {},
   "outputs": [],
   "source": [
    "df[\"day_name\"] = df[\"date\"].dt.day_name()\n",
    "df[\"day_name\"].value_counts()"
   ]
  },
  {
   "cell_type": "code",
   "execution_count": null,
   "metadata": {},
   "outputs": [],
   "source": [
    "df[\"hour\"]"
   ]
  },
  {
   "cell_type": "code",
   "execution_count": 38,
   "metadata": {},
   "outputs": [],
   "source": [
    "# Heat map for time\n",
    "# Creating peiod clm from HR, i.e: Hr \"16\" period: 16-17\n",
    "\n",
    "period = []\n",
    "for hour in df[[\"day_name\", \"hour\"]][\"hour\"]:\n",
    "    if hour == 23:\n",
    "        period.append(str(hour)+\"-\"+str(\"00\"))\n",
    "    elif hour == 0:\n",
    "        period.append(str(\"00\")+\"-\"+str(hour+1))\n",
    "    else:\n",
    "        period.append(str(hour)+\"-\"+str(hour+1))\n",
    "\n",
    "df[\"period\"] = period"
   ]
  },
  {
   "cell_type": "code",
   "execution_count": null,
   "metadata": {},
   "outputs": [],
   "source": [
    "df.sample(5)"
   ]
  },
  {
   "cell_type": "code",
   "execution_count": null,
   "metadata": {},
   "outputs": [],
   "source": [
    "import seaborn as sns\n",
    "\n",
    "plt.figure(figsize=(20, 6))\n",
    "sns.heatmap(df.pivot_table(index=\"day_name\", columns=\"period\", values=\"message\", aggfunc=\"count\").fillna(\n",
    "    0))  # There are time of the daty with out any msg so we fill it with 0\n",
    "plt.yticks(rotation=\"horizontal\")\n",
    "plt.show()"
   ]
  },
  {
   "cell_type": "code",
   "execution_count": null,
   "metadata": {},
   "outputs": [],
   "source": []
  }
 ],
 "metadata": {
  "kernelspec": {
   "display_name": "Python 3",
   "language": "python",
   "name": "python3"
  },
  "language_info": {
   "codemirror_mode": {
    "name": "ipython",
    "version": 3
   },
   "file_extension": ".py",
   "mimetype": "text/x-python",
   "name": "python",
   "nbconvert_exporter": "python",
   "pygments_lexer": "ipython3",
   "version": "3.10.11"
  },
  "orig_nbformat": 4
 },
 "nbformat": 4,
 "nbformat_minor": 2
}
