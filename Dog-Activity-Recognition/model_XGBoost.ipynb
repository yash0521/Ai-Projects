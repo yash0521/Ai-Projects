{
 "cells": [
  {
   "cell_type": "code",
   "execution_count": 1,
   "metadata": {},
   "outputs": [],
   "source": [
    "%load_ext autoreload\n",
    "%autoreload 2"
   ]
  },
  {
   "cell_type": "code",
   "execution_count": 1,
   "metadata": {},
   "outputs": [],
   "source": [
    "import pandas as pd\n",
    "import numpy as np\n",
    "from helpers_train import load_train_dataset, train_data_preprocessing"
   ]
  },
  {
   "cell_type": "code",
   "execution_count": 34,
   "metadata": {},
   "outputs": [
    {
     "name": "stderr",
     "output_type": "stream",
     "text": [
      "Loading Data:   0%|          | 0/5 [00:00<?, ?file/s]"
     ]
    },
    {
     "name": "stderr",
     "output_type": "stream",
     "text": [
      "Loading Data: 100%|██████████| 5/5 [00:00<00:00, 12.71file/s]\n"
     ]
    },
    {
     "data": {
      "text/html": [
       "<div>\n",
       "<style scoped>\n",
       "    .dataframe tbody tr th:only-of-type {\n",
       "        vertical-align: middle;\n",
       "    }\n",
       "\n",
       "    .dataframe tbody tr th {\n",
       "        vertical-align: top;\n",
       "    }\n",
       "\n",
       "    .dataframe thead th {\n",
       "        text-align: right;\n",
       "    }\n",
       "</style>\n",
       "<table border=\"1\" class=\"dataframe\">\n",
       "  <thead>\n",
       "    <tr style=\"text-align: right;\">\n",
       "      <th></th>\n",
       "      <th>ax</th>\n",
       "      <th>ay</th>\n",
       "      <th>az</th>\n",
       "      <th>wx</th>\n",
       "      <th>wy</th>\n",
       "      <th>wz</th>\n",
       "      <th>angleX</th>\n",
       "      <th>angleY</th>\n",
       "      <th>angleZ</th>\n",
       "      <th>label</th>\n",
       "    </tr>\n",
       "  </thead>\n",
       "  <tbody>\n",
       "    <tr>\n",
       "      <th>33889</th>\n",
       "      <td>0.135</td>\n",
       "      <td>0.294</td>\n",
       "      <td>-0.955</td>\n",
       "      <td>-0.977</td>\n",
       "      <td>0.427</td>\n",
       "      <td>0.671</td>\n",
       "      <td>162.422</td>\n",
       "      <td>-8.421</td>\n",
       "      <td>-111.709</td>\n",
       "      <td>lying</td>\n",
       "    </tr>\n",
       "    <tr>\n",
       "      <th>35077</th>\n",
       "      <td>0.133</td>\n",
       "      <td>0.287</td>\n",
       "      <td>-0.954</td>\n",
       "      <td>-0.671</td>\n",
       "      <td>0.183</td>\n",
       "      <td>0.549</td>\n",
       "      <td>162.861</td>\n",
       "      <td>-8.196</td>\n",
       "      <td>-115.269</td>\n",
       "      <td>lying</td>\n",
       "    </tr>\n",
       "    <tr>\n",
       "      <th>4351</th>\n",
       "      <td>-0.716</td>\n",
       "      <td>0.149</td>\n",
       "      <td>-0.666</td>\n",
       "      <td>-29.297</td>\n",
       "      <td>29.541</td>\n",
       "      <td>-39.917</td>\n",
       "      <td>170.403</td>\n",
       "      <td>46.181</td>\n",
       "      <td>73.367</td>\n",
       "      <td>sitting</td>\n",
       "    </tr>\n",
       "    <tr>\n",
       "      <th>15449</th>\n",
       "      <td>0.002</td>\n",
       "      <td>0.298</td>\n",
       "      <td>-0.612</td>\n",
       "      <td>-134.949</td>\n",
       "      <td>303.589</td>\n",
       "      <td>-64.331</td>\n",
       "      <td>-174.111</td>\n",
       "      <td>25.714</td>\n",
       "      <td>-86.677</td>\n",
       "      <td>climbing</td>\n",
       "    </tr>\n",
       "    <tr>\n",
       "      <th>6478</th>\n",
       "      <td>-0.596</td>\n",
       "      <td>0.09</td>\n",
       "      <td>-0.811</td>\n",
       "      <td>-7.69</td>\n",
       "      <td>0.122</td>\n",
       "      <td>-1.77</td>\n",
       "      <td>172.425</td>\n",
       "      <td>36.854</td>\n",
       "      <td>64.232</td>\n",
       "      <td>sitting</td>\n",
       "    </tr>\n",
       "    <tr>\n",
       "      <th>30746</th>\n",
       "      <td>-0.811</td>\n",
       "      <td>0.129</td>\n",
       "      <td>-0.573</td>\n",
       "      <td>0.427</td>\n",
       "      <td>-0.549</td>\n",
       "      <td>0.732</td>\n",
       "      <td>166.399</td>\n",
       "      <td>53.86</td>\n",
       "      <td>-73.504</td>\n",
       "      <td>sitting</td>\n",
       "    </tr>\n",
       "    <tr>\n",
       "      <th>41027</th>\n",
       "      <td>0.133</td>\n",
       "      <td>0.29</td>\n",
       "      <td>-0.95</td>\n",
       "      <td>-0.671</td>\n",
       "      <td>-0.122</td>\n",
       "      <td>0.793</td>\n",
       "      <td>163.109</td>\n",
       "      <td>-7.57</td>\n",
       "      <td>-119.103</td>\n",
       "      <td>lying</td>\n",
       "    </tr>\n",
       "    <tr>\n",
       "      <th>28201</th>\n",
       "      <td>-0.028</td>\n",
       "      <td>0.088</td>\n",
       "      <td>0.004</td>\n",
       "      <td>-94.36</td>\n",
       "      <td>-99.548</td>\n",
       "      <td>122.681</td>\n",
       "      <td>169.398</td>\n",
       "      <td>18.94</td>\n",
       "      <td>93.79</td>\n",
       "      <td>running</td>\n",
       "    </tr>\n",
       "    <tr>\n",
       "      <th>26692</th>\n",
       "      <td>-0.468</td>\n",
       "      <td>-0.085</td>\n",
       "      <td>-3.25</td>\n",
       "      <td>11.536</td>\n",
       "      <td>200.684</td>\n",
       "      <td>86.243</td>\n",
       "      <td>166.212</td>\n",
       "      <td>9.904</td>\n",
       "      <td>51.246</td>\n",
       "      <td>running</td>\n",
       "    </tr>\n",
       "    <tr>\n",
       "      <th>7585</th>\n",
       "      <td>-0.242</td>\n",
       "      <td>-0.384</td>\n",
       "      <td>0.693</td>\n",
       "      <td>0.061</td>\n",
       "      <td>24.353</td>\n",
       "      <td>-81.421</td>\n",
       "      <td>166.256</td>\n",
       "      <td>18.276</td>\n",
       "      <td>-13.557</td>\n",
       "      <td>running</td>\n",
       "    </tr>\n",
       "  </tbody>\n",
       "</table>\n",
       "</div>"
      ],
      "text/plain": [
       "           ax      ay      az        wx       wy       wz    angleX  angleY  \\\n",
       "33889   0.135   0.294  -0.955    -0.977    0.427    0.671   162.422  -8.421   \n",
       "35077   0.133   0.287  -0.954    -0.671    0.183    0.549   162.861  -8.196   \n",
       "4351   -0.716   0.149  -0.666   -29.297   29.541  -39.917   170.403  46.181   \n",
       "15449   0.002   0.298  -0.612  -134.949  303.589  -64.331  -174.111  25.714   \n",
       "6478   -0.596    0.09  -0.811     -7.69    0.122    -1.77   172.425  36.854   \n",
       "30746  -0.811   0.129  -0.573     0.427   -0.549    0.732   166.399   53.86   \n",
       "41027   0.133    0.29   -0.95    -0.671   -0.122    0.793   163.109   -7.57   \n",
       "28201  -0.028   0.088   0.004    -94.36  -99.548  122.681   169.398   18.94   \n",
       "26692  -0.468  -0.085   -3.25    11.536  200.684   86.243   166.212   9.904   \n",
       "7585   -0.242  -0.384   0.693     0.061   24.353  -81.421   166.256  18.276   \n",
       "\n",
       "         angleZ     label  \n",
       "33889  -111.709     lying  \n",
       "35077  -115.269     lying  \n",
       "4351     73.367   sitting  \n",
       "15449   -86.677  climbing  \n",
       "6478     64.232   sitting  \n",
       "30746   -73.504   sitting  \n",
       "41027  -119.103     lying  \n",
       "28201     93.79   running  \n",
       "26692    51.246   running  \n",
       "7585    -13.557   running  "
      ]
     },
     "execution_count": 34,
     "metadata": {},
     "output_type": "execute_result"
    }
   ],
   "source": [
    "folder_path = \"processed_data/train\"\n",
    "data_df = load_train_dataset(folder_path)\n",
    "data_df.sample(10)"
   ]
  },
  {
   "cell_type": "code",
   "execution_count": 35,
   "metadata": {},
   "outputs": [
    {
     "name": "stdout",
     "output_type": "stream",
     "text": [
      "Features shape:  (170260, 9)\n",
      "Labels shape:  (170260,)\n"
     ]
    }
   ],
   "source": [
    "features = data_df.iloc[:, :-1]\n",
    "labels = data_df['label']\n",
    "\n",
    "print(\"Features shape: \", features.shape)\n",
    "print(\"Labels shape: \", labels.shape)"
   ]
  },
  {
   "cell_type": "code",
   "execution_count": 36,
   "metadata": {},
   "outputs": [
    {
     "data": {
      "text/plain": [
       "ax        float32\n",
       "ay        float32\n",
       "az        float32\n",
       "wx        float32\n",
       "wy        float32\n",
       "wz        float32\n",
       "angleX    float32\n",
       "angleY    float32\n",
       "angleZ    float32\n",
       "dtype: object"
      ]
     },
     "execution_count": 36,
     "metadata": {},
     "output_type": "execute_result"
    }
   ],
   "source": [
    "# Converting all the features to float32 as in XGBoost all the features should be float32\n",
    "features = features.astype('float32')\n",
    "features.dtypes"
   ]
  },
  {
   "cell_type": "code",
   "execution_count": 37,
   "metadata": {},
   "outputs": [],
   "source": [
    "from sklearn.preprocessing import LabelEncoder\n",
    "\n",
    "# Encoding the labels\n",
    "label_encoder = LabelEncoder()\n",
    "labels = label_encoder.fit_transform(labels)"
   ]
  },
  {
   "cell_type": "code",
   "execution_count": 39,
   "metadata": {},
   "outputs": [
    {
     "name": "stdout",
     "output_type": "stream",
     "text": [
      "X_train shape:  (136208, 9)\n",
      "X_test shape:  (34052, 9)\n",
      "y_train shape:  (136208,)\n",
      "y_test shape:  (34052,)\n"
     ]
    }
   ],
   "source": [
    "from sklearn.model_selection import train_test_split\n",
    "\n",
    "# Split the data into train and test set\n",
    "X_train, X_test, y_train, y_test = train_test_split(\n",
    "    features, labels, test_size=0.2, random_state=42)\n",
    "\n",
    "print(\"X_train shape: \", X_train.shape)\n",
    "print(\"X_test shape: \", X_test.shape)\n",
    "print(\"y_train shape: \", y_train.shape)\n",
    "print(\"y_test shape: \", y_test.shape)"
   ]
  },
  {
   "cell_type": "code",
   "execution_count": 96,
   "metadata": {},
   "outputs": [],
   "source": [
    "# XGBoost model\n",
    "from xgboost import XGBClassifier\n",
    "\n",
    "\n",
    "class XGBoostModel:\n",
    "    def __init__(self):\n",
    "        self.model = XGBClassifier(objective='multi:softmax', num_class=5,\n",
    "                                   learning_rate=0.0001, n_estimators=4000, optimizer='adam', max_depth=50)\n",
    "\n",
    "    def fit(self, X_train, y_train):\n",
    "        self.model.fit(X_train, y_train)\n",
    "\n",
    "    def predict(self, X_test):\n",
    "        return self.model.predict(X_test)\n",
    "\n",
    "    def evaluate(self, y_test, y_pred):\n",
    "        return accuracy_score(y_test, y_pred)\n",
    "\n",
    "\n",
    "xgb_model = XGBoostModel()\n",
    "xgb_model.fit(X_train, y_train)"
   ]
  },
  {
   "cell_type": "code",
   "execution_count": 97,
   "metadata": {},
   "outputs": [
    {
     "data": {
      "text/plain": [
       "0.9677258310818748"
      ]
     },
     "execution_count": 97,
     "metadata": {},
     "output_type": "execute_result"
    }
   ],
   "source": [
    "from sklearn.metrics import accuracy_score\n",
    "\n",
    "y_pred = xgb_model.predict(X_test)\n",
    "xgb_model.evaluate(y_test, y_pred)"
   ]
  },
  {
   "cell_type": "markdown",
   "metadata": {},
   "source": [
    "Predictions\n"
   ]
  },
  {
   "cell_type": "code",
   "execution_count": 98,
   "metadata": {},
   "outputs": [
    {
     "data": {
      "text/plain": [
       "<module 'helpers_test' from 'c:\\\\Decathlon\\\\CodeGround\\\\MyProject\\\\DAR\\\\helpers_test.py'>"
      ]
     },
     "execution_count": 98,
     "metadata": {},
     "output_type": "execute_result"
    }
   ],
   "source": [
    "import importlib\n",
    "import helpers_test\n",
    "importlib.reload(helpers_test)"
   ]
  },
  {
   "cell_type": "code",
   "execution_count": 82,
   "metadata": {},
   "outputs": [],
   "source": [
    "from helpers_test import make_prediction, read_file, test_data_preprocessing"
   ]
  },
  {
   "cell_type": "code",
   "execution_count": 99,
   "metadata": {},
   "outputs": [
    {
     "data": {
      "text/html": [
       "<div>\n",
       "<style scoped>\n",
       "    .dataframe tbody tr th:only-of-type {\n",
       "        vertical-align: middle;\n",
       "    }\n",
       "\n",
       "    .dataframe tbody tr th {\n",
       "        vertical-align: top;\n",
       "    }\n",
       "\n",
       "    .dataframe thead th {\n",
       "        text-align: right;\n",
       "    }\n",
       "</style>\n",
       "<table border=\"1\" class=\"dataframe\">\n",
       "  <thead>\n",
       "    <tr style=\"text-align: right;\">\n",
       "      <th></th>\n",
       "      <th>ax</th>\n",
       "      <th>ay</th>\n",
       "      <th>az</th>\n",
       "      <th>wx</th>\n",
       "      <th>wy</th>\n",
       "      <th>wz</th>\n",
       "      <th>angleX</th>\n",
       "      <th>angleY</th>\n",
       "      <th>angleZ</th>\n",
       "      <th>labels</th>\n",
       "    </tr>\n",
       "  </thead>\n",
       "  <tbody>\n",
       "    <tr>\n",
       "      <th>0</th>\n",
       "      <td>-0.515</td>\n",
       "      <td>0.024</td>\n",
       "      <td>-0.869</td>\n",
       "      <td>20.569</td>\n",
       "      <td>-4.700</td>\n",
       "      <td>28.137</td>\n",
       "      <td>175.567</td>\n",
       "      <td>28.460</td>\n",
       "      <td>96.081</td>\n",
       "      <td>climbing</td>\n",
       "    </tr>\n",
       "    <tr>\n",
       "      <th>1</th>\n",
       "      <td>-0.504</td>\n",
       "      <td>0.024</td>\n",
       "      <td>-0.869</td>\n",
       "      <td>20.569</td>\n",
       "      <td>-4.700</td>\n",
       "      <td>28.137</td>\n",
       "      <td>175.616</td>\n",
       "      <td>28.488</td>\n",
       "      <td>95.757</td>\n",
       "      <td>climbing</td>\n",
       "    </tr>\n",
       "    <tr>\n",
       "      <th>2</th>\n",
       "      <td>-0.504</td>\n",
       "      <td>0.024</td>\n",
       "      <td>-0.875</td>\n",
       "      <td>22.888</td>\n",
       "      <td>-5.432</td>\n",
       "      <td>26.062</td>\n",
       "      <td>175.682</td>\n",
       "      <td>28.526</td>\n",
       "      <td>95.444</td>\n",
       "      <td>climbing</td>\n",
       "    </tr>\n",
       "    <tr>\n",
       "      <th>3</th>\n",
       "      <td>-0.493</td>\n",
       "      <td>0.024</td>\n",
       "      <td>-0.875</td>\n",
       "      <td>22.888</td>\n",
       "      <td>-5.432</td>\n",
       "      <td>26.062</td>\n",
       "      <td>175.770</td>\n",
       "      <td>28.564</td>\n",
       "      <td>95.147</td>\n",
       "      <td>climbing</td>\n",
       "    </tr>\n",
       "    <tr>\n",
       "      <th>4</th>\n",
       "      <td>-0.493</td>\n",
       "      <td>0.048</td>\n",
       "      <td>-0.879</td>\n",
       "      <td>24.292</td>\n",
       "      <td>-4.700</td>\n",
       "      <td>22.949</td>\n",
       "      <td>175.875</td>\n",
       "      <td>28.603</td>\n",
       "      <td>94.861</td>\n",
       "      <td>climbing</td>\n",
       "    </tr>\n",
       "    <tr>\n",
       "      <th>...</th>\n",
       "      <td>...</td>\n",
       "      <td>...</td>\n",
       "      <td>...</td>\n",
       "      <td>...</td>\n",
       "      <td>...</td>\n",
       "      <td>...</td>\n",
       "      <td>...</td>\n",
       "      <td>...</td>\n",
       "      <td>...</td>\n",
       "      <td>...</td>\n",
       "    </tr>\n",
       "    <tr>\n",
       "      <th>16179</th>\n",
       "      <td>-0.460</td>\n",
       "      <td>0.012</td>\n",
       "      <td>-0.893</td>\n",
       "      <td>1.526</td>\n",
       "      <td>2.686</td>\n",
       "      <td>6.653</td>\n",
       "      <td>-179.594</td>\n",
       "      <td>25.598</td>\n",
       "      <td>-0.687</td>\n",
       "      <td>walking</td>\n",
       "    </tr>\n",
       "    <tr>\n",
       "      <th>16180</th>\n",
       "      <td>-0.464</td>\n",
       "      <td>0.012</td>\n",
       "      <td>-0.893</td>\n",
       "      <td>1.526</td>\n",
       "      <td>2.686</td>\n",
       "      <td>6.653</td>\n",
       "      <td>-179.599</td>\n",
       "      <td>25.576</td>\n",
       "      <td>-0.758</td>\n",
       "      <td>walking</td>\n",
       "    </tr>\n",
       "    <tr>\n",
       "      <th>16181</th>\n",
       "      <td>-0.464</td>\n",
       "      <td>0.010</td>\n",
       "      <td>-0.889</td>\n",
       "      <td>-1.526</td>\n",
       "      <td>0.366</td>\n",
       "      <td>3.845</td>\n",
       "      <td>-179.615</td>\n",
       "      <td>25.565</td>\n",
       "      <td>-0.813</td>\n",
       "      <td>walking</td>\n",
       "    </tr>\n",
       "    <tr>\n",
       "      <th>16182</th>\n",
       "      <td>-0.450</td>\n",
       "      <td>0.010</td>\n",
       "      <td>-0.889</td>\n",
       "      <td>-1.526</td>\n",
       "      <td>0.366</td>\n",
       "      <td>3.845</td>\n",
       "      <td>-179.643</td>\n",
       "      <td>25.565</td>\n",
       "      <td>-0.851</td>\n",
       "      <td>walking</td>\n",
       "    </tr>\n",
       "    <tr>\n",
       "      <th>16183</th>\n",
       "      <td>-0.450</td>\n",
       "      <td>0.010</td>\n",
       "      <td>-0.890</td>\n",
       "      <td>1.038</td>\n",
       "      <td>0.854</td>\n",
       "      <td>1.831</td>\n",
       "      <td>-179.654</td>\n",
       "      <td>25.565</td>\n",
       "      <td>-0.879</td>\n",
       "      <td>walking</td>\n",
       "    </tr>\n",
       "  </tbody>\n",
       "</table>\n",
       "<p>16184 rows × 10 columns</p>\n",
       "</div>"
      ],
      "text/plain": [
       "          ax     ay     az      wx     wy      wz   angleX  angleY  angleZ  \\\n",
       "0     -0.515  0.024 -0.869  20.569 -4.700  28.137  175.567  28.460  96.081   \n",
       "1     -0.504  0.024 -0.869  20.569 -4.700  28.137  175.616  28.488  95.757   \n",
       "2     -0.504  0.024 -0.875  22.888 -5.432  26.062  175.682  28.526  95.444   \n",
       "3     -0.493  0.024 -0.875  22.888 -5.432  26.062  175.770  28.564  95.147   \n",
       "4     -0.493  0.048 -0.879  24.292 -4.700  22.949  175.875  28.603  94.861   \n",
       "...      ...    ...    ...     ...    ...     ...      ...     ...     ...   \n",
       "16179 -0.460  0.012 -0.893   1.526  2.686   6.653 -179.594  25.598  -0.687   \n",
       "16180 -0.464  0.012 -0.893   1.526  2.686   6.653 -179.599  25.576  -0.758   \n",
       "16181 -0.464  0.010 -0.889  -1.526  0.366   3.845 -179.615  25.565  -0.813   \n",
       "16182 -0.450  0.010 -0.889  -1.526  0.366   3.845 -179.643  25.565  -0.851   \n",
       "16183 -0.450  0.010 -0.890   1.038  0.854   1.831 -179.654  25.565  -0.879   \n",
       "\n",
       "         labels  \n",
       "0      climbing  \n",
       "1      climbing  \n",
       "2      climbing  \n",
       "3      climbing  \n",
       "4      climbing  \n",
       "...         ...  \n",
       "16179   walking  \n",
       "16180   walking  \n",
       "16181   walking  \n",
       "16182   walking  \n",
       "16183   walking  \n",
       "\n",
       "[16184 rows x 10 columns]"
      ]
     },
     "execution_count": 99,
     "metadata": {},
     "output_type": "execute_result"
    }
   ],
   "source": [
    "# Process Raw Data\n",
    "file_path = \"processed_data/test/test1.csv\"\n",
    "test_data_df = read_file(file_path)\n",
    "test_data_df"
   ]
  },
  {
   "cell_type": "code",
   "execution_count": 100,
   "metadata": {},
   "outputs": [],
   "source": [
    "# For the file which contains of labels\n",
    "org_labels = test_data_df['labels']\n",
    "test_data_df = test_data_df.iloc[:, :-1]"
   ]
  },
  {
   "cell_type": "code",
   "execution_count": 101,
   "metadata": {},
   "outputs": [
    {
     "data": {
      "text/plain": [
       "array([0, 0, 0, ..., 0, 0, 0])"
      ]
     },
     "execution_count": 101,
     "metadata": {},
     "output_type": "execute_result"
    }
   ],
   "source": [
    "all_actions = xgb_model.predict(test_data_df)\n",
    "all_actions"
   ]
  },
  {
   "cell_type": "code",
   "execution_count": 102,
   "metadata": {},
   "outputs": [
    {
     "name": "stdout",
     "output_type": "stream",
     "text": [
      "Predicted Action:  walking\n"
     ]
    }
   ],
   "source": [
    "import pickle\n",
    "\n",
    "label_encoder = pickle.load(open(\"utils/label_encoder.pkl\", 'rb'))\n",
    "label_encoder.inverse_transform(all_actions)\n",
    "\n",
    "predtion = np.bincount(all_actions).argmax()\n",
    "\n",
    "print(\"Predicted Action: \", label_encoder.inverse_transform([predtion])[0])"
   ]
  },
  {
   "cell_type": "code",
   "execution_count": 103,
   "metadata": {},
   "outputs": [
    {
     "data": {
      "image/png": "[encoded data removed]",
      "text/plain": [
       "<Figure size 1000x500 with 1 Axes>"
      ]
     },
     "metadata": {},
     "output_type": "display_data"
    }
   ],
   "source": [
    "# Draw a freq chart for all actions, different colors for each action\n",
    "import matplotlib.pyplot as plt\n",
    "import seaborn as sns\n",
    "\n",
    "plt.figure(figsize=(10, 5))\n",
    "sns.countplot(x=all_actions, palette=\"Set2\")\n",
    "plt.title('All actions')\n",
    "plt.show()"
   ]
  },
  {
   "cell_type": "code",
   "execution_count": 95,
   "metadata": {},
   "outputs": [
    {
     "data": {
      "text/plain": [
       "0.0"
      ]
     },
     "execution_count": 95,
     "metadata": {},
     "output_type": "execute_result"
    }
   ],
   "source": [
    "# from sklearn.metrics import accuracy_score\n",
    "\n",
    "accuracy_score(org_labels, all_actions)"
   ]
  },
  {
   "cell_type": "code",
   "execution_count": null,
   "metadata": {},
   "outputs": [],
   "source": []
  }
 ],
 "metadata": {
  "kernelspec": {
   "display_name": "Python 3",
   "language": "python",
   "name": "python3"
  },
  "language_info": {
   "codemirror_mode": {
    "name": "ipython",
    "version": 3
   },
   "file_extension": ".py",
   "mimetype": "text/x-python",
   "name": "python",
   "nbconvert_exporter": "python",
   "pygments_lexer": "ipython3",
   "version": "3.11.5"
  }
 },
 "nbformat": 4,
 "nbformat_minor": 2
}
